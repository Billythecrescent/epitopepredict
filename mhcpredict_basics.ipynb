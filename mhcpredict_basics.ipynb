{
 "cells": [
  {
   "cell_type": "markdown",
   "metadata": {},
   "source": [
    "## mhcpredict library basics\n",
    "\n",
    "mhcpredict provides a standardized programmatic interface for executing several MHC binding prediction methods. The results from each method can then be processed and visualized in a consistent manner. The Tepitope module implements the TEPITOPEPan method and requires no external program to run. netMHCIIpan must be downloaded separately from the website and installed on your system. \n",
    "\n",
    "### References:\n",
    "\n",
    "D. Farrell and S. V Gordon, “Epitopemap: a web application for integrated whole proteome epitope prediction,” BMC Bioinformatics, vol. 16, no. 1, p. 221, 2015.\n",
    "\n",
    "L. Zhang, Y. Chen, H.-S. Wong, S. Zhou, H. Mamitsuka, and S. Zhu, “TEPITOPEpan: extending TEPITOPE for peptide binding prediction covering over 700 HLA-DR molecules.,” PLoS One, vol. 7, no. 2, p. e30483, Jan. 2012.\n",
    "\n",
    "A. S. De Groot and W. Martin, “Reducing risk, improving outcomes: bioengineering less immunogenic protein therapeutics.,” Clin. Immunol., vol. 131, no. 2, pp. 189–201, May 2009.\n",
    "\n",
    "F. a Chaves, A. H. Lee, J. L. Nayak, K. a Richards, and A. J. Sant, “The utility and limitations of current Web-available algorithms to predict peptides recognized by CD4 T cells in response to pathogen infection.,” J. Immunol., vol. 188, no. 9, pp. 4235–48, May 2012."
   ]
  },
  {
   "cell_type": "code",
   "execution_count": 45,
   "metadata": {
    "collapsed": true
   },
   "outputs": [],
   "source": [
    "import os\n",
    "import pandas as pd\n",
    "from mhcpredict import base, sequtils, analysis"
   ]
  },
  {
   "cell_type": "code",
   "execution_count": 10,
   "metadata": {
    "collapsed": true
   },
   "outputs": [],
   "source": [
    "genbankfile = 'testing/zaire-ebolavirus.gb'\n",
    "fastafile = 'testing/zaire-ebolavirus.faa'\n",
    "savepath = 'testing'"
   ]
  },
  {
   "cell_type": "markdown",
   "metadata": {},
   "source": [
    "## Methodology\n",
    "\n",
    "Predictors for each method inherit from the `Predictor` class and all implement a predict method for scoring a single sequence. This may wrap methods from other modules and/or call command line predictors. For example the `TepitopePredictor` uses the `mhcpredict.tepitope` module. This method should return a Pandas `DataFrame`. The `predictProteins` method is used for multiple proteins contained in a dataframe of sequences in a standard format. This is created from a genbank or fasta file (see examples below). For large numbers of sequences predictProteins should be called with save=True so that the results are saved as each protein is completed to avoid memory issues, since many alleles might be called for each protein. Results are saved with one file per protein in msgpack format."
   ]
  },
  {
   "cell_type": "code",
   "execution_count": 30,
   "metadata": {
    "collapsed": false
   },
   "outputs": [
    {
     "name": "stdout",
     "output_type": "stream",
     "text": [
      "['tepitope', 'netmhciipan', 'iedbmhc1', 'iedbmhc2', 'bcell']\n"
     ]
    }
   ],
   "source": [
    "#get list of predictors\n",
    "print base.predictors"
   ]
  },
  {
   "cell_type": "code",
   "execution_count": 51,
   "metadata": {
    "collapsed": false
   },
   "outputs": [
    {
     "name": "stdout",
     "output_type": "stream",
     "text": [
      "ZEBOVgp1\n",
      "ZEBOVgp2\n",
      "ZEBOVgp3\n",
      "ZEBOVgp4\n",
      "ZEBOVgp4\n",
      "ZEBOVgp4\n",
      "ZEBOVgp5\n",
      "ZEBOVgp6\n",
      "ZEBOVgp7\n"
     ]
    }
   ],
   "source": [
    "#get data in genbank format into a dataframe\n",
    "df = sequtils.genbank2Dataframe(genbankfile, cds=True)\n",
    "#get data in fasta format\n",
    "df = sequtils.fasta2Dataframe(fastafile)\n",
    "\n",
    "#create tepitope predictor\n",
    "P = base.getPredictor('tepitope')\n",
    "\n",
    "#run prediction for several alleles and save results to savepath\n",
    "alleles = [\"HLA-DRB1*0101\", \"HLA-DRB1*0305\", \"HLA-DRB1*0401\"]\n",
    "P.predictProteins(df,length=11,alleles=alleles,save=True,path=savepath)"
   ]
  },
  {
   "cell_type": "code",
   "execution_count": 54,
   "metadata": {
    "collapsed": false
   },
   "outputs": [
    {
     "name": "stdout",
     "output_type": "stream",
     "text": [
      "         peptide       core  pos  score      name         allele  rank\n",
      "198  VIFRLMRTNFL  FRLMRTNFL  198    3.4  ZEBOVgp1  HLA-DRB1*0101     1\n",
      "199  IFRLMRTNFLI  FRLMRTNFL  199    3.4  ZEBOVgp1  HLA-DRB1*0101     1\n",
      "200  FRLMRTNFLIK  FRLMRTNFL  200    3.4  ZEBOVgp1  HLA-DRB1*0101     1\n",
      "709  NRFVTLDGQQF  FVTLDGQQF  709    2.5  ZEBOVgp1  HLA-DRB1*0101     4\n",
      "710  RFVTLDGQQFY  FVTLDGQQF  710    2.5  ZEBOVgp1  HLA-DRB1*0101     4\n",
      "711  FVTLDGQQFYW  FVTLDGQQF  711    2.5  ZEBOVgp1  HLA-DRB1*0101     4\n",
      "70   DSFLLMLCLHH  FLLMLCLHH   70    2.0  ZEBOVgp1  HLA-DRB1*0101     7\n",
      "71   SFLLMLCLHHA  FLLMLCLHH   71    2.0  ZEBOVgp1  HLA-DRB1*0101     7\n",
      "72   FLLMLCLHHAY  FLLMLCLHH   72    2.0  ZEBOVgp1  HLA-DRB1*0101     7\n",
      "32   QGIVRQRVIPV  IVRQRVIPV   32    1.7  ZEBOVgp1  HLA-DRB1*0101    10\n",
      "        core  allele    score      peptide      name  pos\n",
      "1  IVRQRVIPV       2  3.46104  QGIVRQRVIPV  ZEBOVgp1   32\n",
      "0  FRLMRTNFL       3  5.60000  VIFRLMRTNFL  ZEBOVgp1  198\n",
      "2  LLNLSGVNN       2  2.47414  RLLNLSGVNNL  ZEBOVgp1  297\n",
      "3  LNLSGVNNL       2  2.47414  LNLSGVNNLEH  ZEBOVgp1  299\n",
      "4  VYRDHSEKK       2  2.90000  APVYRDHSEKK  ZEBOVgp1  607\n",
      "5  YRDHSEKKE       2  2.90000  PVYRDHSEKKE  ZEBOVgp1  608\n"
     ]
    }
   ],
   "source": [
    "#read previous results for a protein\n",
    "filename = 'testing/ZEBOVgp1.mpk'\n",
    "res = pd.read_msgpack(filename)\n",
    "#set this data for the predictor\n",
    "#assumes the data is for the right predictor, need to add checks...\n",
    "P.data = res\n",
    "print res[:10]\n",
    "#get promiscuous binders\n",
    "print P.getPromiscuousBinders(data=res,n=2)"
   ]
  },
  {
   "cell_type": "markdown",
   "metadata": {},
   "source": [
    "Here name is the protein identifier from the input file (a locus tag for example) and a score column which will differ between methods. MHC-II methods can be run for varying lengths, with the core usually being the highest scoring in that peptide/n-mer (but not always)."
   ]
  },
  {
   "cell_type": "markdown",
   "metadata": {},
   "source": [
    "## Global predictions for a genome\n",
    "\n",
    "One application of immunoinformatics is to screen out likely candidate antigens from the genome for further study. The approach used here is to perform predictions for all protein sequences and select out potential antigens based on promiscuity of predicted binders. That is, those found in multiple alleles. You can also choose a global percentage cut-off and minimum number of alleles."
   ]
  },
  {
   "cell_type": "code",
   "execution_count": 56,
   "metadata": {
    "collapsed": false
   },
   "outputs": [
    {
     "name": "stdout",
     "output_type": "stream",
     "text": [
      "getting binders..\n",
      "score\n",
      "testing/quantiles.csv\n",
      "HLA-DRB1*0101    0.800\n",
      "HLA-DRB1*0305    2.835\n",
      "HLA-DRB1*0401    2.780\n",
      "Name: 0.96, dtype: float64\n",
      "        core  allele    score      peptide      name  pos\n",
      "3  YHKILTAGL       2  2.50000  MDYHKILTAGL  ZEBOVgp1   18\n",
      "2  IVRQRVIPV       3  3.46104  QGIVRQRVIPV  ZEBOVgp1   32\n",
      "0  FLLMLCLHH       2  3.68000  DSFLLMLCLHH  ZEBOVgp1   70\n",
      "1  FRLMRTNFL       3  5.60000  VIFRLMRTNFL  ZEBOVgp1  198\n",
      "3  YRQSRSASQ       2  4.50000  GEYRQSRSASQ  ZEBOVgp5   36\n",
      "1  LLLLIARKT       2  2.72170  LLLLIARKTCG  ZEBOVgp5   99\n",
      "2  LRALLTLCA       2  4.60000  SKLRALLTLCA  ZEBOVgp5  164\n",
      "0  CESSAVVVS       2  3.32760  LPCESSAVVVS  ZEBOVgp5  248\n",
      "1  VVQQQTIAS       2  4.58000  ATVVQQQTIAS  ZEBOVgp2   93\n",
      "0  FNNLNSTTS       2  3.70000  EAFNNLNSTTS  ZEBOVgp2  197\n"
     ]
    }
   ],
   "source": [
    "path = 'testing'\n",
    "method = 'tepitope'\n",
    "\n",
    "#get binders from existing results (res is a DataFrame)\n",
    "P.getBinders(data=res)\n",
    "#get all promiscuous binders (>=n) for an entire set of related proteins, i.e. in a genome\n",
    "b = analysis.getAllBinders(path, method='tepitope', n=2)\n",
    "print b[:10]\n"
   ]
  },
  {
   "cell_type": "markdown",
   "metadata": {},
   "source": [
    "## Epitopes: binder clustering\n",
    "\n",
    "Epitope clustering has been previously observed to be an indicator of T cell epitope regions. The `findClusters` method in the analysis module allows automatic cluster detection from a set of predicted binders from one or more proteins. It can be done for a whole genome.\n",
    "\n",
    "The result is a table of sequence regions with the number of binders and density of epitope cluster."
   ]
  },
  {
   "cell_type": "code",
   "execution_count": 60,
   "metadata": {
    "collapsed": false
   },
   "outputs": [
    {
     "name": "stdout",
     "output_type": "stream",
     "text": [
      "7 proteins with binders\n",
      "11 clusters found in 3 proteins\n",
      "\n",
      "        name  start   end  binders  clustersize   density    method\n",
      "4   ZEBOVgp7     50    63        3           13  0.230769  tepitope\n",
      "8   ZEBOVgp7   1801  1823        3           22  0.136364  tepitope\n",
      "6   ZEBOVgp7   1376  1388        2           12  0.166667  tepitope\n",
      "0   ZEBOVgp3    103   116        2           13  0.153846  tepitope\n",
      "1   ZEBOVgp3    169   182        2           13  0.153846  tepitope\n",
      "2   ZEBOVgp3    247   260        2           13  0.153846  tepitope\n",
      "5   ZEBOVgp7    784   797        2           13  0.153846  tepitope\n",
      "7   ZEBOVgp7   1652  1665        2           13  0.153846  tepitope\n",
      "3   ZEBOVgp6     24    38        2           14  0.142857  tepitope\n",
      "10  ZEBOVgp7   1997  2011        2           14  0.142857  tepitope\n",
      "9   ZEBOVgp7   1882  1901        2           19  0.105263  tepitope\n"
     ]
    }
   ],
   "source": [
    "#find clusters of binders in these results\n",
    "cl = analysis.findClusters(b, method, dist=10, minsize=2)\n",
    "print cl"
   ]
  },
  {
   "cell_type": "code",
   "execution_count": null,
   "metadata": {
    "collapsed": true
   },
   "outputs": [],
   "source": []
  }
 ],
 "metadata": {
  "kernelspec": {
   "display_name": "Python 2",
   "language": "python",
   "name": "python2"
  },
  "language_info": {
   "codemirror_mode": {
    "name": "ipython",
    "version": 2
   },
   "file_extension": ".py",
   "mimetype": "text/x-python",
   "name": "python",
   "nbconvert_exporter": "python",
   "pygments_lexer": "ipython2",
   "version": "2.7.9"
  }
 },
 "nbformat": 4,
 "nbformat_minor": 0
}
