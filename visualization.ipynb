{
 "cells": [
  {
   "cell_type": "markdown",
   "metadata": {},
   "source": [
    "## mhcpredict plotting\n",
    "\n",
    "Testing code for plotting results with mhcpredict. We use matplotlib and bokeh."
   ]
  },
  {
   "cell_type": "code",
   "execution_count": 87,
   "metadata": {
    "collapsed": false
   },
   "outputs": [
    {
     "data": {
      "text/html": [
       "\n",
       "    <div class=\"bk-banner\">\n",
       "        <a href=\"http://bokeh.pydata.org\" target=\"_blank\" class=\"bk-logo bk-logo-small bk-logo-notebook\"></a>\n",
       "        <span id=\"71f2a7f3-6099-4ee5-abc0-ce906f7a0291\">Loading BokehJS ...</span>\n",
       "    </div>"
      ]
     },
     "metadata": {},
     "output_type": "display_data"
    },
    {
     "data": {
      "application/javascript": [
       "\n",
       "(function(global) {\n",
       "  function now() {\n",
       "    return new Date();\n",
       "  }\n",
       "\n",
       "  if (typeof (window._bokeh_onload_callbacks) === \"undefined\") {\n",
       "    window._bokeh_onload_callbacks = [];\n",
       "  }\n",
       "\n",
       "  function run_callbacks() {\n",
       "    window._bokeh_onload_callbacks.forEach(function(callback) { callback() });\n",
       "    delete window._bokeh_onload_callbacks\n",
       "    console.info(\"Bokeh: all callbacks have finished\");\n",
       "  }\n",
       "\n",
       "  function load_libs(js_urls, callback) {\n",
       "    window._bokeh_onload_callbacks.push(callback);\n",
       "    if (window._bokeh_is_loading > 0) {\n",
       "      console.log(\"Bokeh: BokehJS is being loaded, scheduling callback at\", now());\n",
       "      return null;\n",
       "    }\n",
       "    if (js_urls == null || js_urls.length === 0) {\n",
       "      run_callbacks();\n",
       "      return null;\n",
       "    }\n",
       "    console.log(\"Bokeh: BokehJS not loaded, scheduling load and callback at\", now());\n",
       "    window._bokeh_is_loading = js_urls.length;\n",
       "    for (var i = 0; i < js_urls.length; i++) {\n",
       "      var url = js_urls[i];\n",
       "      var s = document.createElement('script');\n",
       "      s.src = url;\n",
       "      s.async = false;\n",
       "      s.onreadystatechange = s.onload = function() {\n",
       "        window._bokeh_is_loading--;\n",
       "        if (window._bokeh_is_loading === 0) {\n",
       "          console.log(\"Bokeh: all BokehJS libraries loaded\");\n",
       "          run_callbacks()\n",
       "        }\n",
       "      };\n",
       "      s.onerror = function() {\n",
       "        console.warn(\"failed to load library \" + url);\n",
       "      };\n",
       "      console.log(\"Bokeh: injecting script tag for BokehJS library: \", url);\n",
       "      document.getElementsByTagName(\"head\")[0].appendChild(s);\n",
       "    }\n",
       "  };\n",
       "\n",
       "  var js_urls = ['https://cdn.pydata.org/bokeh/release/bokeh-0.11.1.min.js', 'https://cdn.pydata.org/bokeh/release/bokeh-widgets-0.11.1.min.js', 'https://cdn.pydata.org/bokeh/release/bokeh-compiler-0.11.1.min.js'];\n",
       "\n",
       "  var inline_js = [\n",
       "    function(Bokeh) {\n",
       "      Bokeh.set_log_level(\"info\");\n",
       "    },\n",
       "    \n",
       "    function(Bokeh) {\n",
       "      Bokeh.$(\"#71f2a7f3-6099-4ee5-abc0-ce906f7a0291\").text(\"BokehJS successfully loaded\");\n",
       "    },\n",
       "    function(Bokeh) {\n",
       "      console.log(\"Bokeh: injecting CSS: https://cdn.pydata.org/bokeh/release/bokeh-0.11.1.min.css\");\n",
       "      Bokeh.embed.inject_css(\"https://cdn.pydata.org/bokeh/release/bokeh-0.11.1.min.css\");\n",
       "      console.log(\"Bokeh: injecting CSS: https://cdn.pydata.org/bokeh/release/bokeh-widgets-0.11.1.min.css\");\n",
       "      Bokeh.embed.inject_css(\"https://cdn.pydata.org/bokeh/release/bokeh-widgets-0.11.1.min.css\");\n",
       "    }\n",
       "  ];\n",
       "\n",
       "  function run_inline_js() {\n",
       "    for (var i = 0; i < inline_js.length; i++) {\n",
       "      inline_js[i](window.Bokeh);\n",
       "    }\n",
       "  }\n",
       "\n",
       "  if (window._bokeh_is_loading === 0) {\n",
       "    console.log(\"Bokeh: BokehJS loaded, going straight to plotting\");\n",
       "    run_inline_js();\n",
       "  } else {\n",
       "    load_libs(js_urls, function() {\n",
       "      console.log(\"Bokeh: BokehJS plotting callback run at\", now());\n",
       "      run_inline_js();\n",
       "    });\n",
       "  }\n",
       "}(this));"
      ]
     },
     "metadata": {},
     "output_type": "display_data"
    }
   ],
   "source": [
    "from bokeh.io import output_notebook, show\n",
    "output_notebook()\n",
    "import os\n",
    "import numpy as np\n",
    "import pandas as pd\n",
    "from mhcpredict import base, sequtils, analysis\n",
    "genbankfile = 'testing/zaire-ebolavirus.gb'"
   ]
  },
  {
   "cell_type": "code",
   "execution_count": 95,
   "metadata": {
    "collapsed": false
   },
   "outputs": [
    {
     "name": "stdout",
     "output_type": "stream",
     "text": [
      "predictions done for 9 proteins\n"
     ]
    }
   ],
   "source": [
    "df = sequtils.genbank2Dataframe(genbankfile, cds=True)\n",
    "P = base.getPredictor('tepitope')\n",
    "savepath1 = 'tepitope'\n",
    "#run prediction for several alleles and save results to savepath\n",
    "alleles = [\"HLA-DRB1*0101\", \"HLA-DRB1*0108\", \"HLA-DRB1*0305\", \"HLA-DRB1*0401\", \"HLA-DRB1*0404\"]\n",
    "P.predictProteins(df,length=11,alleles=alleles,save=True,path=savepath1)\n",
    "mhc1alleles = [\"HLA-A*01:01\",\"HLA-A*68:02\"]\n",
    "P2 = base.getPredictor('iedbmhc1')\n",
    "savepath2 = 'iedbmhc1'\n",
    "#P2.predictProteins(df,length=11,alleles=mhc1alleles,save=True,path=savepath2)\n"
   ]
  },
  {
   "cell_type": "code",
   "execution_count": 99,
   "metadata": {
    "collapsed": false
   },
   "outputs": [],
   "source": [
    "filename = 'tepitope/ZEBOVgp1.mpk'\n",
    "P.data = pd.read_msgpack(filename)"
   ]
  },
  {
   "cell_type": "markdown",
   "metadata": {},
   "source": [
    "## a self contained version of plotTracks from epitopemap"
   ]
  },
  {
   "cell_type": "code",
   "execution_count": 100,
   "metadata": {
    "collapsed": false
   },
   "outputs": [],
   "source": [
    "colormaps={'tepitope':'Greens','netmhciipan':'Oranges','iedbmhc2':'Pinks',\n",
    "               'threading':'Purples','iedbmhc1':'Blues'}\n",
    "colors = {'tepitope':'green','netmhciipan':'orange',\n",
    "           'iedbmhc1':'blue','iedbmhc2':'pink','threading':'purple'}\n",
    "\n",
    "def plotTracks(preds, title='', n=2, width=820, height=None,\n",
    "                seqdepot=None, bcell=None, exp=None, tools=True):\n",
    "    \"\"\"Plot epitopes as parallel tracks\"\"\"\n",
    "\n",
    "    from collections import OrderedDict\n",
    "    from bokeh.models import Range1d,HoverTool,FactorRange,Grid,GridPlot,ColumnDataSource\n",
    "    from bokeh.plotting import Figure    \n",
    "    import matplotlib as mpl    \n",
    "    \n",
    "    if tools == True:\n",
    "        tools=\"xpan, xwheel_zoom, resize, hover, reset, save\"\n",
    "    else:\n",
    "        tools=''\n",
    "     \n",
    "    #get title from the dataframe?\n",
    "    \n",
    "    alls=1 \n",
    "    for m in preds:\n",
    "        alls += len(preds[m].data.groupby('allele'))\n",
    "    if height==None:\n",
    "        height = 130+10*alls\n",
    "    yrange = Range1d(start=0, end=alls+3)\n",
    "    plot = Figure(title=title,title_text_font_size=\"11pt\",plot_width=width,\n",
    "                  plot_height=height, y_range=yrange,\n",
    "                y_axis_label='allele',\n",
    "                tools=tools,\n",
    "                background_fill=\"#FAFAFA\",\n",
    "                toolbar_location=\"below\")\n",
    "    h=3\n",
    "    if bcell != None:\n",
    "        plotBCell(plot, bcell, alls)\n",
    "    if seqdepot != None:\n",
    "        plotAnnotations(plot,seqdepot)\n",
    "    if exp is not None:\n",
    "        plotExp(plot, exp)\n",
    "\n",
    "    #plotRegions(plot)\n",
    "\n",
    "    #lists for hover data\n",
    "    #we plot all rects at once\n",
    "    x=[];y=[];allele=[];widths=[];clrs=[];peptide=[]\n",
    "    predictor=[];position=[];score=[];leg=[]\n",
    "    l=80\n",
    "    for m in preds:       \n",
    "        pred = preds[m]\n",
    "        cmap = mpl.cm.get_cmap(colormaps[m])\n",
    "        df = pred.data        \n",
    "        sckey = pred.scorekey\n",
    "        pb = pred.getPromiscuousBinders(data=df,n=n)\n",
    "        if len(pb) == 0:\n",
    "            continue\n",
    "        l = pred.getLength()\n",
    "        grps = df.groupby('allele')\n",
    "        alleles = grps.groups.keys()\n",
    "        if len(pb)==0:\n",
    "            continue\n",
    "        c=colors[m]\n",
    "        leg.append(m)\n",
    "\n",
    "        for a,g in grps:\n",
    "            b = pred.getBinders(data=g)             \n",
    "            b = b[b.pos.isin(pb.pos)] #only promiscuous\n",
    "            b.sort_values('pos',inplace=True)\n",
    "            scores = b[sckey].values\n",
    "            score.extend(scores)\n",
    "            pos = b['pos'].values\n",
    "            position.extend(pos)\n",
    "            x.extend(pos+(l/2.0)) #offset as coords are rect centers\n",
    "            widths.extend([l for i in scores])\n",
    "            clrs.extend([c for i in scores])\n",
    "            y.extend([h+0.5 for i in scores])\n",
    "            alls = [a for i in scores]\n",
    "            allele.extend(alls)\n",
    "            peptide.extend(list(b.peptide.values))\n",
    "            predictor.extend([m for i in scores])\n",
    "            h+=1\n",
    "\n",
    "    source = ColumnDataSource(data=dict(x=x,y=y,allele=allele,peptide=peptide,\n",
    "                                    predictor=predictor,position=position,score=score))\n",
    "    plot.rect(x,y, width=widths, height=0.8,\n",
    "         #x_range=Range1d(start=1, end=seqlen+l),\n",
    "         color=clrs,line_color='gray',alpha=0.7,source=source)\n",
    "    \n",
    "    hover = plot.select(dict(type=HoverTool))\n",
    "    hover.tooltips = OrderedDict([\n",
    "        (\"allele\", \"@allele\"),\n",
    "        (\"position\", \"@position\"),\n",
    "        (\"peptide\", \"@peptide\"),\n",
    "        (\"score\", \"@score\"),\n",
    "        (\"predictor\", \"@predictor\"),\n",
    "    ])\n",
    "\n",
    "    seqlen = pred.data.pos.max()+l\n",
    "    plot.set(x_range=Range1d(start=0, end=seqlen+1))\n",
    "    plot.xaxis.major_label_text_font_size = \"8pt\"\n",
    "    plot.xaxis.major_label_text_font_style = \"bold\"\n",
    "    plot.ygrid.grid_line_color = None\n",
    "    plot.yaxis.major_label_text_font_size = '0pt'\n",
    "    plot.xaxis.major_label_orientation = np.pi/4    \n",
    "    return plot\n"
   ]
  },
  {
   "cell_type": "code",
   "execution_count": 101,
   "metadata": {
    "collapsed": false
   },
   "outputs": [
    {
     "data": {
      "text/html": [
       "\n",
       "\n",
       "    <div class=\"plotdiv\" id=\"b2700507-7a40-4113-8d1c-6cf2eff8286c\"></div>\n",
       "<script type=\"text/javascript\">\n",
       "  \n",
       "  (function(global) {\n",
       "    function now() {\n",
       "      return new Date();\n",
       "    }\n",
       "  \n",
       "    if (typeof (window._bokeh_onload_callbacks) === \"undefined\") {\n",
       "      window._bokeh_onload_callbacks = [];\n",
       "    }\n",
       "  \n",
       "    function run_callbacks() {\n",
       "      window._bokeh_onload_callbacks.forEach(function(callback) { callback() });\n",
       "      delete window._bokeh_onload_callbacks\n",
       "      console.info(\"Bokeh: all callbacks have finished\");\n",
       "    }\n",
       "  \n",
       "    function load_libs(js_urls, callback) {\n",
       "      window._bokeh_onload_callbacks.push(callback);\n",
       "      if (window._bokeh_is_loading > 0) {\n",
       "        console.log(\"Bokeh: BokehJS is being loaded, scheduling callback at\", now());\n",
       "        return null;\n",
       "      }\n",
       "      if (js_urls == null || js_urls.length === 0) {\n",
       "        run_callbacks();\n",
       "        return null;\n",
       "      }\n",
       "      console.log(\"Bokeh: BokehJS not loaded, scheduling load and callback at\", now());\n",
       "      window._bokeh_is_loading = js_urls.length;\n",
       "      for (var i = 0; i < js_urls.length; i++) {\n",
       "        var url = js_urls[i];\n",
       "        var s = document.createElement('script');\n",
       "        s.src = url;\n",
       "        s.async = false;\n",
       "        s.onreadystatechange = s.onload = function() {\n",
       "          window._bokeh_is_loading--;\n",
       "          if (window._bokeh_is_loading === 0) {\n",
       "            console.log(\"Bokeh: all BokehJS libraries loaded\");\n",
       "            run_callbacks()\n",
       "          }\n",
       "        };\n",
       "        s.onerror = function() {\n",
       "          console.warn(\"failed to load library \" + url);\n",
       "        };\n",
       "        console.log(\"Bokeh: injecting script tag for BokehJS library: \", url);\n",
       "        document.getElementsByTagName(\"head\")[0].appendChild(s);\n",
       "      }\n",
       "    };var element = document.getElementById(\"b2700507-7a40-4113-8d1c-6cf2eff8286c\");\n",
       "    if (element == null) {\n",
       "      console.log(\"Bokeh: ERROR: autoload.js configured with elementid 'b2700507-7a40-4113-8d1c-6cf2eff8286c' but no matching script tag was found. \")\n",
       "      return false;\n",
       "    }\n",
       "  \n",
       "    var js_urls = [];\n",
       "  \n",
       "    var inline_js = [\n",
       "      function(Bokeh) {\n",
       "        Bokeh.$(function() {\n",
       "            var docs_json = {\"f18771cd-1ff6-439e-b4bd-5e3a51a8964f\":{\"roots\":{\"references\":[{\"attributes\":{\"fill_alpha\":{\"value\":0.1},\"fill_color\":{\"value\":\"#1f77b4\"},\"height\":{\"units\":\"data\",\"value\":0.8},\"line_alpha\":{\"value\":0.1},\"line_color\":{\"value\":\"#1f77b4\"},\"width\":{\"field\":\"width\",\"units\":\"data\"},\"x\":{\"field\":\"x\"},\"y\":{\"field\":\"y\"}},\"id\":\"a3b32374-379a-4002-888b-25d8b8285ff5\",\"type\":\"Rect\"},{\"attributes\":{\"callback\":null,\"end\":740},\"id\":\"5401d7bf-bcd5-4f76-884d-5e372f0c8cec\",\"type\":\"Range1d\"},{\"attributes\":{\"callback\":null,\"column_names\":[\"position\",\"score\",\"peptide\",\"allele\",\"y\",\"x\",\"predictor\",\"width\",\"x\",\"y\",\"fill_color\"],\"data\":{\"allele\":[\"HLA-DRB1*0101\",\"HLA-DRB1*0101\",\"HLA-DRB1*0108\",\"HLA-DRB1*0108\",\"HLA-DRB1*0108\",\"HLA-DRB1*0305\",\"HLA-DRB1*0305\",\"HLA-DRB1*0305\",\"HLA-DRB1*0305\",\"HLA-DRB1*0305\",\"HLA-DRB1*0305\",\"HLA-DRB1*0305\",\"HLA-DRB1*0305\",\"HLA-DRB1*0401\",\"HLA-DRB1*0401\",\"HLA-DRB1*0401\",\"HLA-DRB1*0401\",\"HLA-DRB1*0401\",\"HLA-DRB1*0401\",\"HLA-DRB1*0401\",\"HLA-DRB1*0401\",\"HLA-DRB1*0401\",\"HLA-DRB1*0404\",\"HLA-DRB1*0404\",\"HLA-DRB1*0404\",\"HLA-DRB1*0404\",\"HLA-DRB1*0404\",\"HLA-DRB1*0404\",\"HLA-DRB1*0404\",\"HLA-DRB1*0404\"],\"fill_color\":[\"green\",\"green\",\"green\",\"green\",\"green\",\"green\",\"green\",\"green\",\"green\",\"green\",\"green\",\"green\",\"green\",\"green\",\"green\",\"green\",\"green\",\"green\",\"green\",\"green\",\"green\",\"green\",\"green\",\"green\",\"green\",\"green\",\"green\",\"green\",\"green\",\"green\"],\"peptide\":[\"VIFRLMRTNFL\",\"NRFVTLDGQQF\",\"DSFLLMLCLHH\",\"VIFRLMRTNFL\",\"NRFVTLDGQQF\",\"QGIVRQRVIPV\",\"HMMVIFRLMRT\",\"VIFRLMRTNFL\",\"RLLNLSGVNNL\",\"LNLSGVNNLEH\",\"APVYRDHSEKK\",\"PVYRDHSEKKE\",\"HILRSQGPFDA\",\"QGIVRQRVIPV\",\"DSFLLMLCLHH\",\"VIFRLMRTNFL\",\"RLLNLSGVNNL\",\"LNLSGVNNLEH\",\"NEISFQQTNAM\",\"ISFQQTNAMVT\",\"APVYRDHSEKK\",\"PVYRDHSEKKE\",\"QGIVRQRVIPV\",\"DSFLLMLCLHH\",\"HMMVIFRLMRT\",\"VIFRLMRTNFL\",\"LNLSGVNNLEH\",\"NEISFQQTNAM\",\"ISFQQTNAMVT\",\"HILRSQGPFDA\"],\"position\":[198,709,70,198,709,32,195,198,297,299,607,608,653,32,70,198,297,299,383,385,607,608,32,70,195,198,299,383,385,653],\"predictor\":[\"tepitope\",\"tepitope\",\"tepitope\",\"tepitope\",\"tepitope\",\"tepitope\",\"tepitope\",\"tepitope\",\"tepitope\",\"tepitope\",\"tepitope\",\"tepitope\",\"tepitope\",\"tepitope\",\"tepitope\",\"tepitope\",\"tepitope\",\"tepitope\",\"tepitope\",\"tepitope\",\"tepitope\",\"tepitope\",\"tepitope\",\"tepitope\",\"tepitope\",\"tepitope\",\"tepitope\",\"tepitope\",\"tepitope\",\"tepitope\"],\"score\":[3.4,2.5000000000000004,2.06466,3.3319300000000003,2.4537000000000004,3.4610399999999997,2.6139000000000006,3.8042,2.47414,2.47414,2.2588999999999997,2.2588999999999997,2.2337,2.88,3.6799999999999997,5.6,2.1,2.1,2.4000000000000004,2.4000000000000004,2.9000000000000004,2.9000000000000004,3.08,3.1799999999999997,2.999999999999999,5.6000000000000005,2.08,2.6999999999999997,2.6999999999999997,2.3500000000000005],\"width\":[11,11,11,11,11,11,11,11,11,11,11,11,11,11,11,11,11,11,11,11,11,11,11,11,11,11,11,11,11,11],\"x\":[203.5,714.5,75.5,203.5,714.5,37.5,200.5,203.5,302.5,304.5,612.5,613.5,658.5,37.5,75.5,203.5,302.5,304.5,388.5,390.5,612.5,613.5,37.5,75.5,200.5,203.5,304.5,388.5,390.5,658.5],\"y\":[3.5,3.5,4.5,4.5,4.5,5.5,5.5,5.5,5.5,5.5,5.5,5.5,5.5,6.5,6.5,6.5,6.5,6.5,6.5,6.5,6.5,6.5,7.5,7.5,7.5,7.5,7.5,7.5,7.5,7.5]}},\"id\":\"dd98c19d-0a16-4de1-8222-61bc430cb295\",\"type\":\"ColumnDataSource\"},{\"attributes\":{\"dimensions\":[\"width\"],\"plot\":{\"id\":\"68bbf3b7-7337-4ac1-bda9-699ea61ea6ec\",\"subtype\":\"Figure\",\"type\":\"Plot\"}},\"id\":\"16a42aff-f0d6-4b84-bf82-5a40a878c0ac\",\"type\":\"PanTool\"},{\"attributes\":{\"data_source\":{\"id\":\"dd98c19d-0a16-4de1-8222-61bc430cb295\",\"type\":\"ColumnDataSource\"},\"glyph\":{\"id\":\"31cc4b62-9519-4bca-8a04-e2c85d07fd16\",\"type\":\"Rect\"},\"hover_glyph\":null,\"nonselection_glyph\":{\"id\":\"a3b32374-379a-4002-888b-25d8b8285ff5\",\"type\":\"Rect\"},\"selection_glyph\":null},\"id\":\"83332565-26ee-45dc-882f-7a59bc690687\",\"type\":\"GlyphRenderer\"},{\"attributes\":{\"dimensions\":[\"width\"],\"plot\":{\"id\":\"68bbf3b7-7337-4ac1-bda9-699ea61ea6ec\",\"subtype\":\"Figure\",\"type\":\"Plot\"}},\"id\":\"32bb18aa-84c6-4d8b-b76b-a48075f3cc8e\",\"type\":\"WheelZoomTool\"},{\"attributes\":{\"formatter\":{\"id\":\"95b77cd5-4805-4843-8308-f3b2d50704a5\",\"type\":\"BasicTickFormatter\"},\"major_label_orientation\":0.7853981633974483,\"major_label_text_font_size\":{\"value\":\"8pt\"},\"major_label_text_font_style\":\"bold\",\"plot\":{\"id\":\"68bbf3b7-7337-4ac1-bda9-699ea61ea6ec\",\"subtype\":\"Figure\",\"type\":\"Plot\"},\"ticker\":{\"id\":\"7caa7c5b-4ace-4539-9b30-917de6d0100c\",\"type\":\"BasicTicker\"}},\"id\":\"3763e602-5c35-4b3c-b603-148e77d3c0d2\",\"type\":\"LinearAxis\"},{\"attributes\":{},\"id\":\"95b77cd5-4805-4843-8308-f3b2d50704a5\",\"type\":\"BasicTickFormatter\"},{\"attributes\":{\"callback\":null,\"end\":9},\"id\":\"e3687594-a2eb-42b7-b052-73696270cddc\",\"type\":\"Range1d\"},{\"attributes\":{\"axis_label\":\"allele\",\"formatter\":{\"id\":\"d29a24df-6b2e-491d-a8d8-5314d69ecfce\",\"type\":\"BasicTickFormatter\"},\"major_label_text_font_size\":{\"value\":\"0pt\"},\"plot\":{\"id\":\"68bbf3b7-7337-4ac1-bda9-699ea61ea6ec\",\"subtype\":\"Figure\",\"type\":\"Plot\"},\"ticker\":{\"id\":\"b6fdf222-d145-46d7-89fd-7cb823c57728\",\"type\":\"BasicTicker\"}},\"id\":\"974dc6fe-ed9e-4f89-a368-ed108fc9fccf\",\"type\":\"LinearAxis\"},{\"attributes\":{},\"id\":\"ffbed42a-cbcb-4621-bf25-c7cb22766511\",\"type\":\"ToolEvents\"},{\"attributes\":{},\"id\":\"d29a24df-6b2e-491d-a8d8-5314d69ecfce\",\"type\":\"BasicTickFormatter\"},{\"attributes\":{\"background_fill_color\":{\"value\":\"#FAFAFA\"},\"below\":[{\"id\":\"3763e602-5c35-4b3c-b603-148e77d3c0d2\",\"type\":\"LinearAxis\"}],\"left\":[{\"id\":\"974dc6fe-ed9e-4f89-a368-ed108fc9fccf\",\"type\":\"LinearAxis\"}],\"plot_height\":190,\"plot_width\":820,\"renderers\":[{\"id\":\"3763e602-5c35-4b3c-b603-148e77d3c0d2\",\"type\":\"LinearAxis\"},{\"id\":\"1bf337c7-a135-4262-b62d-892ab6c3685d\",\"type\":\"Grid\"},{\"id\":\"974dc6fe-ed9e-4f89-a368-ed108fc9fccf\",\"type\":\"LinearAxis\"},{\"id\":\"49e92fde-04a4-481b-8c00-eff4506d3d81\",\"type\":\"Grid\"},{\"id\":\"83332565-26ee-45dc-882f-7a59bc690687\",\"type\":\"GlyphRenderer\"}],\"title_text_font_size\":{\"value\":\"11pt\"},\"tool_events\":{\"id\":\"ffbed42a-cbcb-4621-bf25-c7cb22766511\",\"type\":\"ToolEvents\"},\"toolbar_location\":\"below\",\"tools\":[{\"id\":\"16a42aff-f0d6-4b84-bf82-5a40a878c0ac\",\"type\":\"PanTool\"},{\"id\":\"32bb18aa-84c6-4d8b-b76b-a48075f3cc8e\",\"type\":\"WheelZoomTool\"},{\"id\":\"66a4dff6-6062-41ed-8635-08e6bacf6402\",\"type\":\"ResizeTool\"},{\"id\":\"c3c28e1a-d8ac-4e3c-b10c-c67631ac4f86\",\"type\":\"HoverTool\"},{\"id\":\"6a5bbcc2-82e4-4aff-9c2b-ed56a9532285\",\"type\":\"ResetTool\"},{\"id\":\"16bc30bf-5650-4b9a-b419-e5b9bdcbe60f\",\"type\":\"PreviewSaveTool\"}],\"x_range\":{\"id\":\"5401d7bf-bcd5-4f76-884d-5e372f0c8cec\",\"type\":\"Range1d\"},\"y_range\":{\"id\":\"e3687594-a2eb-42b7-b052-73696270cddc\",\"type\":\"Range1d\"}},\"id\":\"68bbf3b7-7337-4ac1-bda9-699ea61ea6ec\",\"subtype\":\"Figure\",\"type\":\"Plot\"},{\"attributes\":{\"dimension\":1,\"grid_line_color\":{\"value\":null},\"plot\":{\"id\":\"68bbf3b7-7337-4ac1-bda9-699ea61ea6ec\",\"subtype\":\"Figure\",\"type\":\"Plot\"},\"ticker\":{\"id\":\"b6fdf222-d145-46d7-89fd-7cb823c57728\",\"type\":\"BasicTicker\"}},\"id\":\"49e92fde-04a4-481b-8c00-eff4506d3d81\",\"type\":\"Grid\"},{\"attributes\":{\"plot\":{\"id\":\"68bbf3b7-7337-4ac1-bda9-699ea61ea6ec\",\"subtype\":\"Figure\",\"type\":\"Plot\"}},\"id\":\"6a5bbcc2-82e4-4aff-9c2b-ed56a9532285\",\"type\":\"ResetTool\"},{\"attributes\":{\"plot\":{\"id\":\"68bbf3b7-7337-4ac1-bda9-699ea61ea6ec\",\"subtype\":\"Figure\",\"type\":\"Plot\"},\"ticker\":{\"id\":\"7caa7c5b-4ace-4539-9b30-917de6d0100c\",\"type\":\"BasicTicker\"}},\"id\":\"1bf337c7-a135-4262-b62d-892ab6c3685d\",\"type\":\"Grid\"},{\"attributes\":{\"callback\":null,\"plot\":{\"id\":\"68bbf3b7-7337-4ac1-bda9-699ea61ea6ec\",\"subtype\":\"Figure\",\"type\":\"Plot\"},\"tooltips\":[[\"allele\",\"@allele\"],[\"position\",\"@position\"],[\"peptide\",\"@peptide\"],[\"score\",\"@score\"],[\"predictor\",\"@predictor\"]]},\"id\":\"c3c28e1a-d8ac-4e3c-b10c-c67631ac4f86\",\"type\":\"HoverTool\"},{\"attributes\":{},\"id\":\"7caa7c5b-4ace-4539-9b30-917de6d0100c\",\"type\":\"BasicTicker\"},{\"attributes\":{\"plot\":{\"id\":\"68bbf3b7-7337-4ac1-bda9-699ea61ea6ec\",\"subtype\":\"Figure\",\"type\":\"Plot\"}},\"id\":\"16bc30bf-5650-4b9a-b419-e5b9bdcbe60f\",\"type\":\"PreviewSaveTool\"},{\"attributes\":{},\"id\":\"b6fdf222-d145-46d7-89fd-7cb823c57728\",\"type\":\"BasicTicker\"},{\"attributes\":{\"fill_alpha\":{\"value\":0.7},\"fill_color\":{\"field\":\"fill_color\"},\"height\":{\"units\":\"data\",\"value\":0.8},\"line_alpha\":{\"value\":0.7},\"line_color\":{\"value\":\"gray\"},\"width\":{\"field\":\"width\",\"units\":\"data\"},\"x\":{\"field\":\"x\"},\"y\":{\"field\":\"y\"}},\"id\":\"31cc4b62-9519-4bca-8a04-e2c85d07fd16\",\"type\":\"Rect\"},{\"attributes\":{\"plot\":{\"id\":\"68bbf3b7-7337-4ac1-bda9-699ea61ea6ec\",\"subtype\":\"Figure\",\"type\":\"Plot\"}},\"id\":\"66a4dff6-6062-41ed-8635-08e6bacf6402\",\"type\":\"ResizeTool\"}],\"root_ids\":[\"68bbf3b7-7337-4ac1-bda9-699ea61ea6ec\"]},\"title\":\"Bokeh Application\",\"version\":\"0.11.1\"}};\n",
       "            var render_items = [{\"docid\":\"f18771cd-1ff6-439e-b4bd-5e3a51a8964f\",\"elementid\":\"b2700507-7a40-4113-8d1c-6cf2eff8286c\",\"modelid\":\"68bbf3b7-7337-4ac1-bda9-699ea61ea6ec\",\"notebook_comms_target\":\"a3fd68c3-fdca-41e3-9850-bfdc7bdd1f04\"}];\n",
       "            \n",
       "            Bokeh.embed.embed_items(docs_json, render_items);\n",
       "        });\n",
       "      },\n",
       "      function(Bokeh) {\n",
       "      }\n",
       "    ];\n",
       "  \n",
       "    function run_inline_js() {\n",
       "      for (var i = 0; i < inline_js.length; i++) {\n",
       "        inline_js[i](window.Bokeh);\n",
       "      }\n",
       "    }\n",
       "  \n",
       "    if (window._bokeh_is_loading === 0) {\n",
       "      console.log(\"Bokeh: BokehJS loaded, going straight to plotting\");\n",
       "      run_inline_js();\n",
       "    } else {\n",
       "      load_libs(js_urls, function() {\n",
       "        console.log(\"Bokeh: BokehJS plotting callback run at\", now());\n",
       "        run_inline_js();\n",
       "      });\n",
       "    }\n",
       "  }(this));\n",
       "</script>"
      ]
     },
     "metadata": {},
     "output_type": "display_data"
    },
    {
     "data": {
      "text/html": [
       "<p><code>&lt;Bokeh Notebook handle for <strong>In[101]</strong>&gt;</code></p>"
      ],
      "text/plain": [
       "<bokeh.io._CommsHandle at 0x7f3faa98c6d0>"
      ]
     },
     "execution_count": 101,
     "metadata": {},
     "output_type": "execute_result"
    }
   ],
   "source": [
    "plot = plotTracks({'tepitope':P})\n",
    "show(plot)"
   ]
  },
  {
   "cell_type": "code",
   "execution_count": null,
   "metadata": {
    "collapsed": true
   },
   "outputs": [],
   "source": []
  },
  {
   "cell_type": "code",
   "execution_count": null,
   "metadata": {
    "collapsed": true
   },
   "outputs": [],
   "source": []
  }
 ],
 "metadata": {
  "kernelspec": {
   "display_name": "Python 2",
   "language": "python",
   "name": "python2"
  },
  "language_info": {
   "codemirror_mode": {
    "name": "ipython",
    "version": 2
   },
   "file_extension": ".py",
   "mimetype": "text/x-python",
   "name": "python",
   "nbconvert_exporter": "python",
   "pygments_lexer": "ipython2",
   "version": "2.7.10"
  }
 },
 "nbformat": 4,
 "nbformat_minor": 0
}
