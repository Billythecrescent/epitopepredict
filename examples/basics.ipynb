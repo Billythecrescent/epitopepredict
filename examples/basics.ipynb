{
 "cells": [
  {
   "cell_type": "markdown",
   "metadata": {},
   "source": [
    "# epitopepredict API basic usage\n",
    "\n",
    "## Methodology\n",
    "\n",
    "Predictors for each method inherit from the `Predictor` class and all implement a predict method for scoring a single sequence. This may wrap methods from other modules and/or call command line predictors. For example the `TepitopePredictor` uses the `mhcpredict.tepitope` module. This method should return a Pandas `DataFrame`. The `predictProteins` method is used for multiple proteins contained in a dataframe of sequences in a standard format. This is created from a genbank or fasta file (see examples below). For large numbers of sequences predictProteins you should provide a path so that the results are saved as each protein is completed to avoid memory issues, since many alleles might be called for each protein. Results are saved with one file per protein in csv format. Results can be loaded into the predictor individually or all together using the `load` method."
   ]
  },
  {
   "cell_type": "code",
   "execution_count": 1,
   "metadata": {},
   "outputs": [],
   "source": [
    "import os, math, time, pickle, subprocess\n",
    "from importlib import reload\n",
    "from collections import OrderedDict\n",
    "import numpy as np\n",
    "import pandas as pd\n",
    "pd.set_option('display.width', 100)\n",
    "import epitopepredict as ep\n",
    "from epitopepredict import sequtils, tepitope, plotting, utilities, peptutils\n",
    "from IPython.display import display, HTML, Image\n",
    "%matplotlib inline\n",
    "import matplotlib as mpl\n",
    "import pylab as plt"
   ]
  },
  {
   "cell_type": "code",
   "execution_count": 2,
   "metadata": {},
   "outputs": [
    {
     "name": "stdout",
     "output_type": "stream",
     "text": [
      "['HLA-A*01:01', 'HLA-A*02:01', 'HLA-A*03:01', 'HLA-A*24:02', 'HLA-B*07:02', 'HLA-B*44:03']\n",
      "['HLA-DRB1*01:01', 'HLA-DRB1*03:01', 'HLA-DRB1*04:01', 'HLA-DRB1*07:01', 'HLA-DRB1*08:01', 'HLA-DRB1*11:01', 'HLA-DRB1*13:01', 'HLA-DRB1*15:01']\n"
     ]
    }
   ],
   "source": [
    "#get preset alleles\n",
    "m2_alleles = ep.get_preset_alleles('mhc2_supertypes')\n",
    "m1_alleles = ep.get_preset_alleles('mhc1_supertypes')\n",
    "print (m1_alleles)\n",
    "print (m2_alleles)"
   ]
  },
  {
   "cell_type": "markdown",
   "metadata": {},
   "source": [
    "## predict random peptides"
   ]
  },
  {
   "cell_type": "code",
   "execution_count": 3,
   "metadata": {},
   "outputs": [
    {
     "name": "stdout",
     "output_type": "stream",
     "text": [
      "['PHKDEAIYS', 'VKMVVEWMS', 'VDHPIKVQF', 'FNYSGMGSY', 'TAICDLPVI']\n"
     ]
    }
   ],
   "source": [
    "seqs = peptutils.create_random_sequences(10)\n",
    "print (seqs[:5])\n",
    "df = pd.DataFrame(seqs,columns=['peptide'])\n",
    "P = ep.get_predictor('basicmhc1')\n",
    "b = P.predict_peptides(df.peptide, alleles=m1_alleles, show_cmd=True, cpus=1)"
   ]
  },
  {
   "cell_type": "markdown",
   "metadata": {},
   "source": [
    "## results are returned as dataframes, sorted by score"
   ]
  },
  {
   "cell_type": "code",
   "execution_count": 4,
   "metadata": {},
   "outputs": [
    {
     "name": "stdout",
     "output_type": "stream",
     "text": [
      "     peptide  pos  log50k     score  name       allele  rank\n",
      "0  FNYSGMGSY    3  0.3656    957.25  temp  HLA-A*01:01   1.0\n",
      "1  ILGMLVIRA    6  0.1113  14995.97  temp  HLA-A*01:01   2.0\n",
      "2  VKMVVEWMS    1  0.1049  16071.19  temp  HLA-A*01:01   3.0\n",
      "3  PHKDEAIYS    0  0.1042  16193.37  temp  HLA-A*01:01   4.0\n",
      "4  TAICDLPVI    4  0.0928  18319.16  temp  HLA-A*01:01   5.0\n"
     ]
    }
   ],
   "source": [
    "print (b[:5])"
   ]
  },
  {
   "cell_type": "markdown",
   "metadata": {},
   "source": [
    "## predict n-mers from a protein sequence\n",
    "This example loads protein sequences from mycobacterium tuberculosis from a genbank file"
   ]
  },
  {
   "cell_type": "code",
   "execution_count": 8,
   "metadata": {},
   "outputs": [
    {
     "data": {
      "text/html": [
       "<div>\n",
       "<style scoped>\n",
       "    .dataframe tbody tr th:only-of-type {\n",
       "        vertical-align: middle;\n",
       "    }\n",
       "\n",
       "    .dataframe tbody tr th {\n",
       "        vertical-align: top;\n",
       "    }\n",
       "\n",
       "    .dataframe thead th {\n",
       "        text-align: right;\n",
       "    }\n",
       "</style>\n",
       "<table border=\"1\" class=\"dataframe\">\n",
       "  <thead>\n",
       "    <tr style=\"text-align: right;\">\n",
       "      <th></th>\n",
       "      <th>type</th>\n",
       "      <th>protein_id</th>\n",
       "      <th>locus_tag</th>\n",
       "      <th>gene</th>\n",
       "      <th>db_xref</th>\n",
       "      <th>product</th>\n",
       "      <th>note</th>\n",
       "      <th>translation</th>\n",
       "      <th>pseudo</th>\n",
       "      <th>start</th>\n",
       "      <th>end</th>\n",
       "      <th>strand</th>\n",
       "      <th>length</th>\n",
       "      <th>order</th>\n",
       "    </tr>\n",
       "  </thead>\n",
       "  <tbody>\n",
       "    <tr>\n",
       "      <th>2</th>\n",
       "      <td>CDS</td>\n",
       "      <td>CCP42723.1</td>\n",
       "      <td>Rv0001</td>\n",
       "      <td>dnaA</td>\n",
       "      <td>GI:444893470</td>\n",
       "      <td>Chromosomal replication initiator protein DnaA</td>\n",
       "      <td>Rv0001, (MT0001, MTV029.01, P49993), len: 507 ...</td>\n",
       "      <td>MTDDPGSGFTTVWNAVVSELNGDPKVDDGPSSDANLSAPLTPQQRA...</td>\n",
       "      <td>NaN</td>\n",
       "      <td>0</td>\n",
       "      <td>1524</td>\n",
       "      <td>1</td>\n",
       "      <td>507</td>\n",
       "      <td>1</td>\n",
       "    </tr>\n",
       "    <tr>\n",
       "      <th>4</th>\n",
       "      <td>CDS</td>\n",
       "      <td>CCP42724.1</td>\n",
       "      <td>Rv0002</td>\n",
       "      <td>dnaN</td>\n",
       "      <td>GI:444893471</td>\n",
       "      <td>DNA polymerase III (beta chain) DnaN (DNA nucl...</td>\n",
       "      <td>Rv0002, (MTV029.02, MTCY10H4.0), len: 402 aa. ...</td>\n",
       "      <td>MDAATTRVGLTDLTFRLLRESFADAVSWVAKNLPARPAVPVLSGVL...</td>\n",
       "      <td>NaN</td>\n",
       "      <td>2051</td>\n",
       "      <td>3260</td>\n",
       "      <td>1</td>\n",
       "      <td>402</td>\n",
       "      <td>2</td>\n",
       "    </tr>\n",
       "    <tr>\n",
       "      <th>6</th>\n",
       "      <td>CDS</td>\n",
       "      <td>CCP42725.1</td>\n",
       "      <td>Rv0003</td>\n",
       "      <td>recF</td>\n",
       "      <td>GI:444893472</td>\n",
       "      <td>DNA replication and repair protein RecF (singl...</td>\n",
       "      <td>Rv0003, (MTCY10H4.01), len: 385 aa. RecF, DNA ...</td>\n",
       "      <td>MYVRHLGLRDFRSWACVDLELHPGRTVFVGPNGYGKTNLIEALWYS...</td>\n",
       "      <td>NaN</td>\n",
       "      <td>3279</td>\n",
       "      <td>4437</td>\n",
       "      <td>1</td>\n",
       "      <td>385</td>\n",
       "      <td>3</td>\n",
       "    </tr>\n",
       "    <tr>\n",
       "      <th>8</th>\n",
       "      <td>CDS</td>\n",
       "      <td>CCP42726.1</td>\n",
       "      <td>Rv0004</td>\n",
       "      <td>NaN</td>\n",
       "      <td>GI:444893473</td>\n",
       "      <td>Conserved hypothetical protein</td>\n",
       "      <td>Rv0004, (MTCY10H4.02), len: 187 aa. Conserved ...</td>\n",
       "      <td>MTGSVDRPDQNRGERSMKSPGLDLVRRTLDEARAAARARGQDAGRG...</td>\n",
       "      <td>NaN</td>\n",
       "      <td>4433</td>\n",
       "      <td>4997</td>\n",
       "      <td>1</td>\n",
       "      <td>187</td>\n",
       "      <td>4</td>\n",
       "    </tr>\n",
       "    <tr>\n",
       "      <th>10</th>\n",
       "      <td>CDS</td>\n",
       "      <td>CCP42727.1</td>\n",
       "      <td>Rv0005</td>\n",
       "      <td>gyrB</td>\n",
       "      <td>GI:444893474</td>\n",
       "      <td>DNA gyrase (subunit B) GyrB (DNA topoisomerase...</td>\n",
       "      <td>Rv0005, (MTCY10H4.03), len: 675 aa. GyrB, DNA ...</td>\n",
       "      <td>MAAQKKKAQDEYGAASITILEGLEAVRKRPGMYIGSTGERGLHHLI...</td>\n",
       "      <td>NaN</td>\n",
       "      <td>5239</td>\n",
       "      <td>7267</td>\n",
       "      <td>1</td>\n",
       "      <td>675</td>\n",
       "      <td>5</td>\n",
       "    </tr>\n",
       "  </tbody>\n",
       "</table>\n",
       "</div>"
      ],
      "text/plain": [
       "   type  protein_id locus_tag  gene       db_xref  \\\n",
       "2   CDS  CCP42723.1    Rv0001  dnaA  GI:444893470   \n",
       "4   CDS  CCP42724.1    Rv0002  dnaN  GI:444893471   \n",
       "6   CDS  CCP42725.1    Rv0003  recF  GI:444893472   \n",
       "8   CDS  CCP42726.1    Rv0004   NaN  GI:444893473   \n",
       "10  CDS  CCP42727.1    Rv0005  gyrB  GI:444893474   \n",
       "\n",
       "                                              product  \\\n",
       "2      Chromosomal replication initiator protein DnaA   \n",
       "4   DNA polymerase III (beta chain) DnaN (DNA nucl...   \n",
       "6   DNA replication and repair protein RecF (singl...   \n",
       "8                      Conserved hypothetical protein   \n",
       "10  DNA gyrase (subunit B) GyrB (DNA topoisomerase...   \n",
       "\n",
       "                                                 note  \\\n",
       "2   Rv0001, (MT0001, MTV029.01, P49993), len: 507 ...   \n",
       "4   Rv0002, (MTV029.02, MTCY10H4.0), len: 402 aa. ...   \n",
       "6   Rv0003, (MTCY10H4.01), len: 385 aa. RecF, DNA ...   \n",
       "8   Rv0004, (MTCY10H4.02), len: 187 aa. Conserved ...   \n",
       "10  Rv0005, (MTCY10H4.03), len: 675 aa. GyrB, DNA ...   \n",
       "\n",
       "                                          translation pseudo  start   end  strand  length  order  \n",
       "2   MTDDPGSGFTTVWNAVVSELNGDPKVDDGPSSDANLSAPLTPQQRA...    NaN      0  1524       1     507      1  \n",
       "4   MDAATTRVGLTDLTFRLLRESFADAVSWVAKNLPARPAVPVLSGVL...    NaN   2051  3260       1     402      2  \n",
       "6   MYVRHLGLRDFRSWACVDLELHPGRTVFVGPNGYGKTNLIEALWYS...    NaN   3279  4437       1     385      3  \n",
       "8   MTGSVDRPDQNRGERSMKSPGLDLVRRTLDEARAAARARGQDAGRG...    NaN   4433  4997       1     187      4  \n",
       "10  MAAQKKKAQDEYGAASITILEGLEAVRKRPGMYIGSTGERGLHHLI...    NaN   5239  7267       1     675      5  "
      ]
     },
     "execution_count": 8,
     "metadata": {},
     "output_type": "execute_result"
    }
   ],
   "source": [
    "#load protein sequences into a dataframe\n",
    "prots = ep.genbank_to_dataframe('../MTB-H37Rv.gb',cds=True)\n",
    "prots[:5]"
   ]
  },
  {
   "cell_type": "code",
   "execution_count": 9,
   "metadata": {},
   "outputs": [
    {
     "name": "stdout",
     "output_type": "stream",
     "text": [
      "predictions done for 20 sequences in 8 alleles\n"
     ]
    }
   ],
   "source": [
    "P = ep.get_predictor('tepitope')\n",
    "mb_binders = P.predict_sequences(prots[:20], alleles=m2_alleles, cpus=1)"
   ]
  },
  {
   "cell_type": "code",
   "execution_count": 10,
   "metadata": {},
   "outputs": [
    {
     "data": {
      "text/html": [
       "<div>\n",
       "<style scoped>\n",
       "    .dataframe tbody tr th:only-of-type {\n",
       "        vertical-align: middle;\n",
       "    }\n",
       "\n",
       "    .dataframe tbody tr th {\n",
       "        vertical-align: top;\n",
       "    }\n",
       "\n",
       "    .dataframe thead th {\n",
       "        text-align: right;\n",
       "    }\n",
       "</style>\n",
       "<table border=\"1\" class=\"dataframe\">\n",
       "  <thead>\n",
       "    <tr style=\"text-align: right;\">\n",
       "      <th></th>\n",
       "      <th>peptide</th>\n",
       "      <th>core</th>\n",
       "      <th>pos</th>\n",
       "      <th>score</th>\n",
       "      <th>name</th>\n",
       "      <th>allele</th>\n",
       "      <th>rank</th>\n",
       "    </tr>\n",
       "  </thead>\n",
       "  <tbody>\n",
       "    <tr>\n",
       "      <th>174</th>\n",
       "      <td>DTFVIGASNRF</td>\n",
       "      <td>FVIGASNRF</td>\n",
       "      <td>174</td>\n",
       "      <td>2.00</td>\n",
       "      <td>Rv0001</td>\n",
       "      <td>HLA-DRB1*0101</td>\n",
       "      <td>1.0</td>\n",
       "    </tr>\n",
       "    <tr>\n",
       "      <th>175</th>\n",
       "      <td>TFVIGASNRFA</td>\n",
       "      <td>FVIGASNRF</td>\n",
       "      <td>175</td>\n",
       "      <td>2.00</td>\n",
       "      <td>Rv0001</td>\n",
       "      <td>HLA-DRB1*0101</td>\n",
       "      <td>1.0</td>\n",
       "    </tr>\n",
       "    <tr>\n",
       "      <th>176</th>\n",
       "      <td>FVIGASNRFAH</td>\n",
       "      <td>FVIGASNRF</td>\n",
       "      <td>176</td>\n",
       "      <td>2.00</td>\n",
       "      <td>Rv0001</td>\n",
       "      <td>HLA-DRB1*0101</td>\n",
       "      <td>1.0</td>\n",
       "    </tr>\n",
       "    <tr>\n",
       "      <th>45</th>\n",
       "      <td>AWLNLVQPLTI</td>\n",
       "      <td>LNLVQPLTI</td>\n",
       "      <td>45</td>\n",
       "      <td>1.55</td>\n",
       "      <td>Rv0001</td>\n",
       "      <td>HLA-DRB1*0101</td>\n",
       "      <td>4.0</td>\n",
       "    </tr>\n",
       "    <tr>\n",
       "      <th>46</th>\n",
       "      <td>WLNLVQPLTIV</td>\n",
       "      <td>LNLVQPLTI</td>\n",
       "      <td>46</td>\n",
       "      <td>1.55</td>\n",
       "      <td>Rv0001</td>\n",
       "      <td>HLA-DRB1*0101</td>\n",
       "      <td>4.0</td>\n",
       "    </tr>\n",
       "  </tbody>\n",
       "</table>\n",
       "</div>"
      ],
      "text/plain": [
       "         peptide       core  pos  score    name         allele  rank\n",
       "174  DTFVIGASNRF  FVIGASNRF  174   2.00  Rv0001  HLA-DRB1*0101   1.0\n",
       "175  TFVIGASNRFA  FVIGASNRF  175   2.00  Rv0001  HLA-DRB1*0101   1.0\n",
       "176  FVIGASNRFAH  FVIGASNRF  176   2.00  Rv0001  HLA-DRB1*0101   1.0\n",
       "45   AWLNLVQPLTI  LNLVQPLTI   45   1.55  Rv0001  HLA-DRB1*0101   4.0\n",
       "46   WLNLVQPLTIV  LNLVQPLTI   46   1.55  Rv0001  HLA-DRB1*0101   4.0"
      ]
     },
     "execution_count": 10,
     "metadata": {},
     "output_type": "execute_result"
    }
   ],
   "source": [
    "mb_binders.head()"
   ]
  },
  {
   "cell_type": "markdown",
   "metadata": {},
   "source": [
    "## get promiscuous binders - those peptides above the cutoff for at least 3 alleles"
   ]
  },
  {
   "cell_type": "code",
   "execution_count": 5,
   "metadata": {},
   "outputs": [
    {
     "data": {
      "text/plain": [
       "(0, 8)"
      ]
     },
     "execution_count": 5,
     "metadata": {},
     "output_type": "execute_result"
    }
   ],
   "source": [
    "pb = P.promiscuous_binders(n=3)\n",
    "pb.shape"
   ]
  },
  {
   "cell_type": "code",
   "execution_count": 11,
   "metadata": {},
   "outputs": [
    {
     "name": "stdout",
     "output_type": "stream",
     "text": [
      "Empty DataFrame\n",
      "Columns: [peptide, pos, name, alleles, core, score, mean, median_rank]\n",
      "Index: []\n"
     ]
    }
   ],
   "source": [
    "print (pb[:3])"
   ]
  },
  {
   "cell_type": "markdown",
   "metadata": {},
   "source": [
    "## plot binders in a protein sequence"
   ]
  },
  {
   "cell_type": "code",
   "execution_count": 12,
   "metadata": {},
   "outputs": [
    {
     "name": "stdout",
     "output_type": "stream",
     "text": [
      "['Rv0001', 'Rv0002', 'Rv0003', 'Rv0004', 'Rv0005', 'Rv0006', 'Rv0007', 'Rv0008c', 'Rv0009', 'Rv0010c', 'Rv0011c', 'Rv0012', 'Rv0013', 'Rv0014c', 'Rv0015c', 'Rv0016c', 'Rv0017c', 'Rv0018c', 'Rv0019c', 'Rv0020c']\n",
      "Rv0011c tepitope 82 11 93\n"
     ]
    },
    {
     "data": {
      "text/plain": [
       "<Figure size 432x288 with 0 Axes>"
      ]
     },
     "metadata": {},
     "output_type": "display_data"
    },
    {
     "data": {
      "image/png": "[encoded data removed]",
      "text/plain": [
       "<Figure size 720x216 with 1 Axes>"
      ]
     },
     "metadata": {
      "needs_background": "light"
     },
     "output_type": "display_data"
    },
    {
     "data": {
      "image/png": "[encoded data removed]",
      "text/plain": [
       "<Figure size 1080x396 with 2 Axes>"
      ]
     },
     "metadata": {
      "needs_background": "light"
     },
     "output_type": "display_data"
    }
   ],
   "source": [
    "#get names of proteins stored in results of predictor\n",
    "print (P.get_names())\n",
    "ax = plotting.plot_tracks([P],name='Rv0011c',cutoff=.94,n=2)\n",
    "plt.tight_layout()\n",
    "plt.savefig('mhc_rv0011c.png',dpi=150)\n",
    "ax = plotting.plot_binder_map(P,name='Rv0011c',cutoff=10)\n",
    "plt.savefig('mhc_rv0011c_map.png',dpi=150)"
   ]
  },
  {
   "cell_type": "code",
   "execution_count": 13,
   "metadata": {},
   "outputs": [
    {
     "data": {
      "text/html": [
       "\n",
       "    <div class=\"bk-root\">\n",
       "        <a href=\"https://bokeh.pydata.org\" target=\"_blank\" class=\"bk-logo bk-logo-small bk-logo-notebook\"></a>\n",
       "        <span id=\"21e12546-bd98-4f74-bc8e-a0e58eb47f7c\">Loading BokehJS ...</span>\n",
       "    </div>"
      ]
     },
     "metadata": {},
     "output_type": "display_data"
    },
    {
     "data": {
      "application/javascript": [
       "\n",
       "(function(root) {\n",
       "  function now() {\n",
       "    return new Date();\n",
       "  }\n",
       "\n",
       "  var force = true;\n",
       "\n",
       "  if (typeof (root._bokeh_onload_callbacks) === \"undefined\" || force === true) {\n",
       "    root._bokeh_onload_callbacks = [];\n",
       "    root._bokeh_is_loading = undefined;\n",
       "  }\n",
       "\n",
       "  var JS_MIME_TYPE = 'application/javascript';\n",
       "  var HTML_MIME_TYPE = 'text/html';\n",
       "  var EXEC_MIME_TYPE = 'application/vnd.bokehjs_exec.v0+json';\n",
       "  var CLASS_NAME = 'output_bokeh rendered_html';\n",
       "\n",
       "  /**\n",
       "   * Render data to the DOM node\n",
       "   */\n",
       "  function render(props, node) {\n",
       "    var script = document.createElement(\"script\");\n",
       "    node.appendChild(script);\n",
       "  }\n",
       "\n",
       "  /**\n",
       "   * Handle when an output is cleared or removed\n",
       "   */\n",
       "  function handleClearOutput(event, handle) {\n",
       "    var cell = handle.cell;\n",
       "\n",
       "    var id = cell.output_area._bokeh_element_id;\n",
       "    var server_id = cell.output_area._bokeh_server_id;\n",
       "    // Clean up Bokeh references\n",
       "    if (id !== undefined) {\n",
       "      Bokeh.index[id].model.document.clear();\n",
       "      delete Bokeh.index[id];\n",
       "    }\n",
       "\n",
       "    if (server_id !== undefined) {\n",
       "      // Clean up Bokeh references\n",
       "      var cmd = \"from bokeh.io.state import curstate; print(curstate().uuid_to_server['\" + server_id + \"'].get_sessions()[0].document.roots[0]._id)\";\n",
       "      cell.notebook.kernel.execute(cmd, {\n",
       "        iopub: {\n",
       "          output: function(msg) {\n",
       "            var element_id = msg.content.text.trim();\n",
       "            Bokeh.index[element_id].model.document.clear();\n",
       "            delete Bokeh.index[element_id];\n",
       "          }\n",
       "        }\n",
       "      });\n",
       "      // Destroy server and session\n",
       "      var cmd = \"import bokeh.io.notebook as ion; ion.destroy_server('\" + server_id + \"')\";\n",
       "      cell.notebook.kernel.execute(cmd);\n",
       "    }\n",
       "  }\n",
       "\n",
       "  /**\n",
       "   * Handle when a new output is added\n",
       "   */\n",
       "  function handleAddOutput(event, handle) {\n",
       "    var output_area = handle.output_area;\n",
       "    var output = handle.output;\n",
       "\n",
       "    // limit handleAddOutput to display_data with EXEC_MIME_TYPE content only\n",
       "    if ((output.output_type != \"display_data\") || (!output.data.hasOwnProperty(EXEC_MIME_TYPE))) {\n",
       "      return\n",
       "    }\n",
       "\n",
       "    var toinsert = output_area.element.find(\".\" + CLASS_NAME.split(' ')[0]);\n",
       "\n",
       "    if (output.metadata[EXEC_MIME_TYPE][\"id\"] !== undefined) {\n",
       "      toinsert[0].firstChild.textContent = output.data[JS_MIME_TYPE];\n",
       "      // store reference to embed id on output_area\n",
       "      output_area._bokeh_element_id = output.metadata[EXEC_MIME_TYPE][\"id\"];\n",
       "    }\n",
       "    if (output.metadata[EXEC_MIME_TYPE][\"server_id\"] !== undefined) {\n",
       "      var bk_div = document.createElement(\"div\");\n",
       "      bk_div.innerHTML = output.data[HTML_MIME_TYPE];\n",
       "      var script_attrs = bk_div.children[0].attributes;\n",
       "      for (var i = 0; i < script_attrs.length; i++) {\n",
       "        toinsert[0].firstChild.setAttribute(script_attrs[i].name, script_attrs[i].value);\n",
       "      }\n",
       "      // store reference to server id on output_area\n",
       "      output_area._bokeh_server_id = output.metadata[EXEC_MIME_TYPE][\"server_id\"];\n",
       "    }\n",
       "  }\n",
       "\n",
       "  function register_renderer(events, OutputArea) {\n",
       "\n",
       "    function append_mime(data, metadata, element) {\n",
       "      // create a DOM node to render to\n",
       "      var toinsert = this.create_output_subarea(\n",
       "        metadata,\n",
       "        CLASS_NAME,\n",
       "        EXEC_MIME_TYPE\n",
       "      );\n",
       "      this.keyboard_manager.register_events(toinsert);\n",
       "      // Render to node\n",
       "      var props = {data: data, metadata: metadata[EXEC_MIME_TYPE]};\n",
       "      render(props, toinsert[0]);\n",
       "      element.append(toinsert);\n",
       "      return toinsert\n",
       "    }\n",
       "\n",
       "    /* Handle when an output is cleared or removed */\n",
       "    events.on('clear_output.CodeCell', handleClearOutput);\n",
       "    events.on('delete.Cell', handleClearOutput);\n",
       "\n",
       "    /* Handle when a new output is added */\n",
       "    events.on('output_added.OutputArea', handleAddOutput);\n",
       "\n",
       "    /**\n",
       "     * Register the mime type and append_mime function with output_area\n",
       "     */\n",
       "    OutputArea.prototype.register_mime_type(EXEC_MIME_TYPE, append_mime, {\n",
       "      /* Is output safe? */\n",
       "      safe: true,\n",
       "      /* Index of renderer in `output_area.display_order` */\n",
       "      index: 0\n",
       "    });\n",
       "  }\n",
       "\n",
       "  // register the mime type if in Jupyter Notebook environment and previously unregistered\n",
       "  if (root.Jupyter !== undefined) {\n",
       "    var events = require('base/js/events');\n",
       "    var OutputArea = require('notebook/js/outputarea').OutputArea;\n",
       "\n",
       "    if (OutputArea.prototype.mime_types().indexOf(EXEC_MIME_TYPE) == -1) {\n",
       "      register_renderer(events, OutputArea);\n",
       "    }\n",
       "  }\n",
       "\n",
       "  \n",
       "  if (typeof (root._bokeh_timeout) === \"undefined\" || force === true) {\n",
       "    root._bokeh_timeout = Date.now() + 5000;\n",
       "    root._bokeh_failed_load = false;\n",
       "  }\n",
       "\n",
       "  var NB_LOAD_WARNING = {'data': {'text/html':\n",
       "     \"<div style='background-color: #fdd'>\\n\"+\n",
       "     \"<p>\\n\"+\n",
       "     \"BokehJS does not appear to have successfully loaded. If loading BokehJS from CDN, this \\n\"+\n",
       "     \"may be due to a slow or bad network connection. Possible fixes:\\n\"+\n",
       "     \"</p>\\n\"+\n",
       "     \"<ul>\\n\"+\n",
       "     \"<li>re-rerun `output_notebook()` to attempt to load from CDN again, or</li>\\n\"+\n",
       "     \"<li>use INLINE resources instead, as so:</li>\\n\"+\n",
       "     \"</ul>\\n\"+\n",
       "     \"<code>\\n\"+\n",
       "     \"from bokeh.resources import INLINE\\n\"+\n",
       "     \"output_notebook(resources=INLINE)\\n\"+\n",
       "     \"</code>\\n\"+\n",
       "     \"</div>\"}};\n",
       "\n",
       "  function display_loaded() {\n",
       "    var el = document.getElementById(\"21e12546-bd98-4f74-bc8e-a0e58eb47f7c\");\n",
       "    if (el != null) {\n",
       "      el.textContent = \"BokehJS is loading...\";\n",
       "    }\n",
       "    if (root.Bokeh !== undefined) {\n",
       "      if (el != null) {\n",
       "        el.textContent = \"BokehJS \" + root.Bokeh.version + \" successfully loaded.\";\n",
       "      }\n",
       "    } else if (Date.now() < root._bokeh_timeout) {\n",
       "      setTimeout(display_loaded, 100)\n",
       "    }\n",
       "  }\n",
       "\n",
       "\n",
       "  function run_callbacks() {\n",
       "    try {\n",
       "      root._bokeh_onload_callbacks.forEach(function(callback) { callback() });\n",
       "    }\n",
       "    finally {\n",
       "      delete root._bokeh_onload_callbacks\n",
       "    }\n",
       "    console.info(\"Bokeh: all callbacks have finished\");\n",
       "  }\n",
       "\n",
       "  function load_libs(js_urls, callback) {\n",
       "    root._bokeh_onload_callbacks.push(callback);\n",
       "    if (root._bokeh_is_loading > 0) {\n",
       "      console.log(\"Bokeh: BokehJS is being loaded, scheduling callback at\", now());\n",
       "      return null;\n",
       "    }\n",
       "    if (js_urls == null || js_urls.length === 0) {\n",
       "      run_callbacks();\n",
       "      return null;\n",
       "    }\n",
       "    console.log(\"Bokeh: BokehJS not loaded, scheduling load and callback at\", now());\n",
       "    root._bokeh_is_loading = js_urls.length;\n",
       "    for (var i = 0; i < js_urls.length; i++) {\n",
       "      var url = js_urls[i];\n",
       "      var s = document.createElement('script');\n",
       "      s.src = url;\n",
       "      s.async = false;\n",
       "      s.onreadystatechange = s.onload = function() {\n",
       "        root._bokeh_is_loading--;\n",
       "        if (root._bokeh_is_loading === 0) {\n",
       "          console.log(\"Bokeh: all BokehJS libraries loaded\");\n",
       "          run_callbacks()\n",
       "        }\n",
       "      };\n",
       "      s.onerror = function() {\n",
       "        console.warn(\"failed to load library \" + url);\n",
       "      };\n",
       "      console.log(\"Bokeh: injecting script tag for BokehJS library: \", url);\n",
       "      document.getElementsByTagName(\"head\")[0].appendChild(s);\n",
       "    }\n",
       "  };var element = document.getElementById(\"21e12546-bd98-4f74-bc8e-a0e58eb47f7c\");\n",
       "  if (element == null) {\n",
       "    console.log(\"Bokeh: ERROR: autoload.js configured with elementid '21e12546-bd98-4f74-bc8e-a0e58eb47f7c' but no matching script tag was found. \")\n",
       "    return false;\n",
       "  }\n",
       "\n",
       "  var js_urls = [\"https://cdn.pydata.org/bokeh/release/bokeh-0.12.14.min.js\", \"https://cdn.pydata.org/bokeh/release/bokeh-widgets-0.12.14.min.js\", \"https://cdn.pydata.org/bokeh/release/bokeh-tables-0.12.14.min.js\", \"https://cdn.pydata.org/bokeh/release/bokeh-gl-0.12.14.min.js\"];\n",
       "\n",
       "  var inline_js = [\n",
       "    function(Bokeh) {\n",
       "      Bokeh.set_log_level(\"info\");\n",
       "    },\n",
       "    \n",
       "    function(Bokeh) {\n",
       "      \n",
       "    },\n",
       "    function(Bokeh) {\n",
       "      console.log(\"Bokeh: injecting CSS: https://cdn.pydata.org/bokeh/release/bokeh-0.12.14.min.css\");\n",
       "      Bokeh.embed.inject_css(\"https://cdn.pydata.org/bokeh/release/bokeh-0.12.14.min.css\");\n",
       "      console.log(\"Bokeh: injecting CSS: https://cdn.pydata.org/bokeh/release/bokeh-widgets-0.12.14.min.css\");\n",
       "      Bokeh.embed.inject_css(\"https://cdn.pydata.org/bokeh/release/bokeh-widgets-0.12.14.min.css\");\n",
       "      console.log(\"Bokeh: injecting CSS: https://cdn.pydata.org/bokeh/release/bokeh-tables-0.12.14.min.css\");\n",
       "      Bokeh.embed.inject_css(\"https://cdn.pydata.org/bokeh/release/bokeh-tables-0.12.14.min.css\");\n",
       "    }\n",
       "  ];\n",
       "\n",
       "  function run_inline_js() {\n",
       "    \n",
       "    if ((root.Bokeh !== undefined) || (force === true)) {\n",
       "      for (var i = 0; i < inline_js.length; i++) {\n",
       "        inline_js[i].call(root, root.Bokeh);\n",
       "      }if (force === true) {\n",
       "        display_loaded();\n",
       "      }} else if (Date.now() < root._bokeh_timeout) {\n",
       "      setTimeout(run_inline_js, 100);\n",
       "    } else if (!root._bokeh_failed_load) {\n",
       "      console.log(\"Bokeh: BokehJS failed to load within specified timeout.\");\n",
       "      root._bokeh_failed_load = true;\n",
       "    } else if (force !== true) {\n",
       "      var cell = $(document.getElementById(\"21e12546-bd98-4f74-bc8e-a0e58eb47f7c\")).parents('.cell').data().cell;\n",
       "      cell.output_area.append_execute_result(NB_LOAD_WARNING)\n",
       "    }\n",
       "\n",
       "  }\n",
       "\n",
       "  if (root._bokeh_is_loading === 0) {\n",
       "    console.log(\"Bokeh: BokehJS loaded, going straight to plotting\");\n",
       "    run_inline_js();\n",
       "  } else {\n",
       "    load_libs(js_urls, function() {\n",
       "      console.log(\"Bokeh: BokehJS plotting callback run at\", now());\n",
       "      run_inline_js();\n",
       "    });\n",
       "  }\n",
       "}(window));"
      ],
      "application/vnd.bokehjs_load.v0+json": "\n(function(root) {\n  function now() {\n    return new Date();\n  }\n\n  var force = true;\n\n  if (typeof (root._bokeh_onload_callbacks) === \"undefined\" || force === true) {\n    root._bokeh_onload_callbacks = [];\n    root._bokeh_is_loading = undefined;\n  }\n\n  \n\n  \n  if (typeof (root._bokeh_timeout) === \"undefined\" || force === true) {\n    root._bokeh_timeout = Date.now() + 5000;\n    root._bokeh_failed_load = false;\n  }\n\n  var NB_LOAD_WARNING = {'data': {'text/html':\n     \"<div style='background-color: #fdd'>\\n\"+\n     \"<p>\\n\"+\n     \"BokehJS does not appear to have successfully loaded. If loading BokehJS from CDN, this \\n\"+\n     \"may be due to a slow or bad network connection. Possible fixes:\\n\"+\n     \"</p>\\n\"+\n     \"<ul>\\n\"+\n     \"<li>re-rerun `output_notebook()` to attempt to load from CDN again, or</li>\\n\"+\n     \"<li>use INLINE resources instead, as so:</li>\\n\"+\n     \"</ul>\\n\"+\n     \"<code>\\n\"+\n     \"from bokeh.resources import INLINE\\n\"+\n     \"output_notebook(resources=INLINE)\\n\"+\n     \"</code>\\n\"+\n     \"</div>\"}};\n\n  function display_loaded() {\n    var el = document.getElementById(\"21e12546-bd98-4f74-bc8e-a0e58eb47f7c\");\n    if (el != null) {\n      el.textContent = \"BokehJS is loading...\";\n    }\n    if (root.Bokeh !== undefined) {\n      if (el != null) {\n        el.textContent = \"BokehJS \" + root.Bokeh.version + \" successfully loaded.\";\n      }\n    } else if (Date.now() < root._bokeh_timeout) {\n      setTimeout(display_loaded, 100)\n    }\n  }\n\n\n  function run_callbacks() {\n    try {\n      root._bokeh_onload_callbacks.forEach(function(callback) { callback() });\n    }\n    finally {\n      delete root._bokeh_onload_callbacks\n    }\n    console.info(\"Bokeh: all callbacks have finished\");\n  }\n\n  function load_libs(js_urls, callback) {\n    root._bokeh_onload_callbacks.push(callback);\n    if (root._bokeh_is_loading > 0) {\n      console.log(\"Bokeh: BokehJS is being loaded, scheduling callback at\", now());\n      return null;\n    }\n    if (js_urls == null || js_urls.length === 0) {\n      run_callbacks();\n      return null;\n    }\n    console.log(\"Bokeh: BokehJS not loaded, scheduling load and callback at\", now());\n    root._bokeh_is_loading = js_urls.length;\n    for (var i = 0; i < js_urls.length; i++) {\n      var url = js_urls[i];\n      var s = document.createElement('script');\n      s.src = url;\n      s.async = false;\n      s.onreadystatechange = s.onload = function() {\n        root._bokeh_is_loading--;\n        if (root._bokeh_is_loading === 0) {\n          console.log(\"Bokeh: all BokehJS libraries loaded\");\n          run_callbacks()\n        }\n      };\n      s.onerror = function() {\n        console.warn(\"failed to load library \" + url);\n      };\n      console.log(\"Bokeh: injecting script tag for BokehJS library: \", url);\n      document.getElementsByTagName(\"head\")[0].appendChild(s);\n    }\n  };var element = document.getElementById(\"21e12546-bd98-4f74-bc8e-a0e58eb47f7c\");\n  if (element == null) {\n    console.log(\"Bokeh: ERROR: autoload.js configured with elementid '21e12546-bd98-4f74-bc8e-a0e58eb47f7c' but no matching script tag was found. \")\n    return false;\n  }\n\n  var js_urls = [\"https://cdn.pydata.org/bokeh/release/bokeh-0.12.14.min.js\", \"https://cdn.pydata.org/bokeh/release/bokeh-widgets-0.12.14.min.js\", \"https://cdn.pydata.org/bokeh/release/bokeh-tables-0.12.14.min.js\", \"https://cdn.pydata.org/bokeh/release/bokeh-gl-0.12.14.min.js\"];\n\n  var inline_js = [\n    function(Bokeh) {\n      Bokeh.set_log_level(\"info\");\n    },\n    \n    function(Bokeh) {\n      \n    },\n    function(Bokeh) {\n      console.log(\"Bokeh: injecting CSS: https://cdn.pydata.org/bokeh/release/bokeh-0.12.14.min.css\");\n      Bokeh.embed.inject_css(\"https://cdn.pydata.org/bokeh/release/bokeh-0.12.14.min.css\");\n      console.log(\"Bokeh: injecting CSS: https://cdn.pydata.org/bokeh/release/bokeh-widgets-0.12.14.min.css\");\n      Bokeh.embed.inject_css(\"https://cdn.pydata.org/bokeh/release/bokeh-widgets-0.12.14.min.css\");\n      console.log(\"Bokeh: injecting CSS: https://cdn.pydata.org/bokeh/release/bokeh-tables-0.12.14.min.css\");\n      Bokeh.embed.inject_css(\"https://cdn.pydata.org/bokeh/release/bokeh-tables-0.12.14.min.css\");\n    }\n  ];\n\n  function run_inline_js() {\n    \n    if ((root.Bokeh !== undefined) || (force === true)) {\n      for (var i = 0; i < inline_js.length; i++) {\n        inline_js[i].call(root, root.Bokeh);\n      }if (force === true) {\n        display_loaded();\n      }} else if (Date.now() < root._bokeh_timeout) {\n      setTimeout(run_inline_js, 100);\n    } else if (!root._bokeh_failed_load) {\n      console.log(\"Bokeh: BokehJS failed to load within specified timeout.\");\n      root._bokeh_failed_load = true;\n    } else if (force !== true) {\n      var cell = $(document.getElementById(\"21e12546-bd98-4f74-bc8e-a0e58eb47f7c\")).parents('.cell').data().cell;\n      cell.output_area.append_execute_result(NB_LOAD_WARNING)\n    }\n\n  }\n\n  if (root._bokeh_is_loading === 0) {\n    console.log(\"Bokeh: BokehJS loaded, going straight to plotting\");\n    run_inline_js();\n  } else {\n    load_libs(js_urls, function() {\n      console.log(\"Bokeh: BokehJS plotting callback run at\", now());\n      run_inline_js();\n    });\n  }\n}(window));"
     },
     "metadata": {},
     "output_type": "display_data"
    },
    {
     "name": "stderr",
     "output_type": "stream",
     "text": [
      "/usr/local/lib/python3.6/dist-packages/bokeh/core/json_encoder.py:80: FutureWarning: Conversion of the second argument of issubdtype from `float` to `np.floating` is deprecated. In future, it will be treated as `np.float64 == np.dtype(float).type`.\n",
      "  elif np.issubdtype(type(obj), np.float):\n"
     ]
    },
    {
     "data": {
      "text/html": [
       "\n",
       "<div class=\"bk-root\">\n",
       "    <div class=\"bk-plotdiv\" id=\"2b718b9a-d6af-4d01-8294-bff71e237e42\"></div>\n",
       "</div>"
      ]
     },
     "metadata": {},
     "output_type": "display_data"
    },
    {
     "data": {
      "application/javascript": [
       "(function(root) {\n",
       "  function embed_document(root) {\n",
       "    \n",
       "  var docs_json = {\"a7e04ac8-ef4a-4c18-b410-cdfe9ac069ec\":{\"roots\":{\"references\":[{\"attributes\":{\"items\":[{\"id\":\"9bf701ae-9cb1-448e-b053-3dae12c0b0a9\",\"type\":\"LegendItem\"}],\"location\":\"bottom_right\",\"orientation\":\"horizontal\",\"plot\":{\"id\":\"88ccc248-9b01-421a-b2e1-828950c31e00\",\"subtype\":\"Figure\",\"type\":\"Plot\"}},\"id\":\"5f8d87f6-1770-47e8-9c90-08043abb1744\",\"type\":\"Legend\"},{\"attributes\":{\"label\":{\"field\":\"predictor\"},\"renderers\":[{\"id\":\"ae5fe65d-6414-466e-9c64-d3b76959feec\",\"type\":\"GlyphRenderer\"}]},\"id\":\"9bf701ae-9cb1-448e-b053-3dae12c0b0a9\",\"type\":\"LegendItem\"},{\"attributes\":{\"callback\":null,\"column_names\":[\"x\",\"y\",\"allele\",\"peptide\",\"width\",\"color\",\"predictor\",\"position\",\"score\"],\"data\":{\"allele\":[\"HLA-DRB1*0101\",\"HLA-DRB1*0101\",\"HLA-DRB1*0101\",\"HLA-DRB1*0101\",\"HLA-DRB1*0101\",\"HLA-DRB1*0101\",\"HLA-DRB1*0101\",\"HLA-DRB1*0101\",\"HLA-DRB1*0301\",\"HLA-DRB1*0301\",\"HLA-DRB1*0301\",\"HLA-DRB1*0301\",\"HLA-DRB1*0701\",\"HLA-DRB1*0701\",\"HLA-DRB1*0701\",\"HLA-DRB1*0701\",\"HLA-DRB1*0701\",\"HLA-DRB1*0701\",\"HLA-DRB1*0701\",\"HLA-DRB1*0701\",\"HLA-DRB1*0701\",\"HLA-DRB1*0701\",\"HLA-DRB1*0801\",\"HLA-DRB1*0801\",\"HLA-DRB1*0801\",\"HLA-DRB1*0801\",\"HLA-DRB1*0801\",\"HLA-DRB1*1101\",\"HLA-DRB1*1101\",\"HLA-DRB1*1101\",\"HLA-DRB1*1101\",\"HLA-DRB1*1101\",\"HLA-DRB1*1101\",\"HLA-DRB1*1101\",\"HLA-DRB1*1101\",\"HLA-DRB1*1101\",\"HLA-DRB1*1101\",\"HLA-DRB1*1101\",\"HLA-DRB1*1101\",\"HLA-DRB1*1301\",\"HLA-DRB1*1301\",\"HLA-DRB1*1301\",\"HLA-DRB1*1301\",\"HLA-DRB1*1301\",\"HLA-DRB1*1501\",\"HLA-DRB1*1501\",\"HLA-DRB1*1501\",\"HLA-DRB1*1501\",\"HLA-DRB1*1501\",\"HLA-DRB1*1501\",\"HLA-DRB1*1501\",\"HLA-DRB1*1501\"],\"color\":[\"#377eb8\",\"#377eb8\",\"#377eb8\",\"#377eb8\",\"#377eb8\",\"#377eb8\",\"#377eb8\",\"#377eb8\",\"#377eb8\",\"#377eb8\",\"#377eb8\",\"#377eb8\",\"#377eb8\",\"#377eb8\",\"#377eb8\",\"#377eb8\",\"#377eb8\",\"#377eb8\",\"#377eb8\",\"#377eb8\",\"#377eb8\",\"#377eb8\",\"#377eb8\",\"#377eb8\",\"#377eb8\",\"#377eb8\",\"#377eb8\",\"#377eb8\",\"#377eb8\",\"#377eb8\",\"#377eb8\",\"#377eb8\",\"#377eb8\",\"#377eb8\",\"#377eb8\",\"#377eb8\",\"#377eb8\",\"#377eb8\",\"#377eb8\",\"#377eb8\",\"#377eb8\",\"#377eb8\",\"#377eb8\",\"#377eb8\",\"#377eb8\",\"#377eb8\",\"#377eb8\",\"#377eb8\",\"#377eb8\",\"#377eb8\",\"#377eb8\",\"#377eb8\"],\"peptide\":[\"FIGLMLIGLIW\",\"GLMLIGLIWLM\",\"IGLIWLMVFQL\",\"IWLMVFQLAAI\",\"WLMVFQLAAIG\",\"VFQLAAIGSQA\",\"GPWNYAIAFAF\",\"NYAIAFAFMIT\",\"GLMLIGLIWLM\",\"MLIGLIWLMVF\",\"LIGLIWLMVFQ\",\"IGLIWLMVFQL\",\"WFVSLFIGLML\",\"FVSLFIGLMLI\",\"FIGLMLIGLIW\",\"GLMLIGLIWLM\",\"MLIGLIWLMVF\",\"LIGLIWLMVFQ\",\"IGLIWLMVFQL\",\"GPWNYAIAFAF\",\"NYAIAFAFMIT\",\"FAFMITGLLLT\",\"WFVSLFIGLML\",\"FVSLFIGLMLI\",\"VFQLAAIGSQA\",\"FQLAAIGSQAP\",\"FAFMITGLLLT\",\"WFVSLFIGLML\",\"FVSLFIGLMLI\",\"FIGLMLIGLIW\",\"GLMLIGLIWLM\",\"MLIGLIWLMVF\",\"LIGLIWLMVFQ\",\"IGLIWLMVFQL\",\"IWLMVFQLAAI\",\"WLMVFQLAAIG\",\"VFQLAAIGSQA\",\"FQLAAIGSQAP\",\"FAFMITGLLLT\",\"GLMLIGLIWLM\",\"MLIGLIWLMVF\",\"IGLIWLMVFQL\",\"IWLMVFQLAAI\",\"WLMVFQLAAIG\",\"WFVSLFIGLML\",\"FVSLFIGLMLI\",\"GLMLIGLIWLM\",\"MLIGLIWLMVF\",\"LIGLIWLMVFQ\",\"IGLIWLMVFQL\",\"IWLMVFQLAAI\",\"WLMVFQLAAIG\"],\"position\":[36,38,42,45,46,49,70,73,38,40,41,42,31,32,36,38,40,41,42,70,73,78,31,32,49,50,78,31,32,36,38,40,41,42,45,46,49,50,78,38,40,42,45,46,31,32,38,40,41,42,45,46],\"predictor\":[\"tepitope\",\"tepitope\",\"tepitope\",\"tepitope\",\"tepitope\",\"tepitope\",\"tepitope\",\"tepitope\",\"tepitope\",\"tepitope\",\"tepitope\",\"tepitope\",\"tepitope\",\"tepitope\",\"tepitope\",\"tepitope\",\"tepitope\",\"tepitope\",\"tepitope\",\"tepitope\",\"tepitope\",\"tepitope\",\"tepitope\",\"tepitope\",\"tepitope\",\"tepitope\",\"tepitope\",\"tepitope\",\"tepitope\",\"tepitope\",\"tepitope\",\"tepitope\",\"tepitope\",\"tepitope\",\"tepitope\",\"tepitope\",\"tepitope\",\"tepitope\",\"tepitope\",\"tepitope\",\"tepitope\",\"tepitope\",\"tepitope\",\"tepitope\",\"tepitope\",\"tepitope\",\"tepitope\",\"tepitope\",\"tepitope\",\"tepitope\",\"tepitope\",\"tepitope\"],\"score\":[1.3000000000000003,0.7000000000000001,0.7,0.8500000000000001,1.2,1.0,1.5,2.5,4.2,4.2,4.2,4.2,7.799999999999999,4.9,5.4,7.1,4.6,4.6,4.9,5.800000000000001,7.0,5.700000000000001,3.9000000000000004,3.9000000000000004,3.7,3.7,2.5,3.3000000000000007,3.3000000000000007,2.4000000000000004,2.0,1.9,1.9,1.9,4.0,4.0,3.0000000000000004,3.0000000000000004,2.5,2.80133,2.80133,3.0605,2.8979,3.373500000000001,6.0,6.0,4.9,3.6,3.6,3.6,4.9,4.9],\"width\":[11,11,11,11,11,11,11,11,11,11,11,11,11,11,11,11,11,11,11,11,11,11,11,11,11,11,11,11,11,11,11,11,11,11,11,11,11,11,11,11,11,11,11,11,11,11,11,11,11,11,11,11],\"x\":[41.5,43.5,47.5,50.5,51.5,54.5,75.5,78.5,43.5,45.5,46.5,47.5,36.5,37.5,41.5,43.5,45.5,46.5,47.5,75.5,78.5,83.5,36.5,37.5,54.5,55.5,83.5,36.5,37.5,41.5,43.5,45.5,46.5,47.5,50.5,51.5,54.5,55.5,83.5,43.5,45.5,47.5,50.5,51.5,36.5,37.5,43.5,45.5,46.5,47.5,50.5,51.5],\"y\":[3.5,3.5,3.5,3.5,3.5,3.5,3.5,3.5,4.5,4.5,4.5,4.5,6.5,6.5,6.5,6.5,6.5,6.5,6.5,6.5,6.5,6.5,7.5,7.5,7.5,7.5,7.5,8.5,8.5,8.5,8.5,8.5,8.5,8.5,8.5,8.5,8.5,8.5,8.5,9.5,9.5,9.5,9.5,9.5,10.5,10.5,10.5,10.5,10.5,10.5,10.5,10.5]}},\"id\":\"dcd4c6e6-f658-471b-8ebf-8d9312bc376e\",\"type\":\"ColumnDataSource\"},{\"attributes\":{\"dimension\":1,\"grid_line_color\":{\"value\":null},\"plot\":{\"id\":\"88ccc248-9b01-421a-b2e1-828950c31e00\",\"subtype\":\"Figure\",\"type\":\"Plot\"},\"ticker\":{\"id\":\"f5f7823f-6bd5-4604-9fbb-b411a4e27b8b\",\"type\":\"BasicTicker\"}},\"id\":\"28583d61-93f7-4fe1-98ac-36056a2a3266\",\"type\":\"Grid\"},{\"attributes\":{\"fill_alpha\":{\"value\":0.7},\"fill_color\":{\"field\":\"color\"},\"height\":{\"units\":\"data\",\"value\":0.8},\"line_alpha\":{\"value\":0.7},\"line_color\":{\"value\":\"gray\"},\"width\":{\"field\":\"width\",\"units\":\"data\"},\"x\":{\"field\":\"x\"},\"y\":{\"field\":\"y\"}},\"id\":\"71d41550-6598-4905-b503-cb85a7005481\",\"type\":\"Rect\"},{\"attributes\":{\"plot\":null,\"text\":\"\"},\"id\":\"ad2297ef-d7be-4792-b836-c03e52afec53\",\"type\":\"Title\"},{\"attributes\":{},\"id\":\"f5f7823f-6bd5-4604-9fbb-b411a4e27b8b\",\"type\":\"BasicTicker\"},{\"attributes\":{},\"id\":\"2b4ab966-ca8e-4953-a490-dbbca557858c\",\"type\":\"LinearScale\"},{\"attributes\":{\"fill_alpha\":{\"value\":0.1},\"fill_color\":{\"value\":\"#1f77b4\"},\"height\":{\"units\":\"data\",\"value\":0.8},\"line_alpha\":{\"value\":0.1},\"line_color\":{\"value\":\"#1f77b4\"},\"width\":{\"field\":\"width\",\"units\":\"data\"},\"x\":{\"field\":\"x\"},\"y\":{\"field\":\"y\"}},\"id\":\"1e9f9fb6-3419-4350-b251-b64a110c4a3b\",\"type\":\"Rect\"},{\"attributes\":{},\"id\":\"fbb2d563-7ea5-499c-a778-e0c71bf221b9\",\"type\":\"BasicTickFormatter\"},{\"attributes\":{\"background_fill_alpha\":{\"value\":0.5},\"background_fill_color\":{\"value\":\"#fafaf4\"},\"below\":[{\"id\":\"e188ba0b-b405-40c1-8d21-2815ea49c199\",\"type\":\"LinearAxis\"}],\"left\":[{\"id\":\"9102ef50-bf72-4153-9060-660694742631\",\"type\":\"LinearAxis\"}],\"min_border\":10,\"plot_height\":230,\"plot_width\":800,\"renderers\":[{\"id\":\"e188ba0b-b405-40c1-8d21-2815ea49c199\",\"type\":\"LinearAxis\"},{\"id\":\"74b28e5c-fab5-4470-9412-901f45c3fdfa\",\"type\":\"Grid\"},{\"id\":\"9102ef50-bf72-4153-9060-660694742631\",\"type\":\"LinearAxis\"},{\"id\":\"28583d61-93f7-4fe1-98ac-36056a2a3266\",\"type\":\"Grid\"},{\"id\":\"5f8d87f6-1770-47e8-9c90-08043abb1744\",\"type\":\"Legend\"},{\"id\":\"ae5fe65d-6414-466e-9c64-d3b76959feec\",\"type\":\"GlyphRenderer\"}],\"title\":{\"id\":\"ad2297ef-d7be-4792-b836-c03e52afec53\",\"type\":\"Title\"},\"toolbar\":{\"id\":\"f61e6270-7d45-404a-9cae-0e9f57e926eb\",\"type\":\"Toolbar\"},\"x_range\":{\"id\":\"379b06ed-0956-4618-bfcb-40fd9c42769f\",\"type\":\"Range1d\"},\"x_scale\":{\"id\":\"2b4ab966-ca8e-4953-a490-dbbca557858c\",\"type\":\"LinearScale\"},\"y_range\":{\"id\":\"46fed110-2c76-4a3b-b171-b9ad29c41e68\",\"type\":\"Range1d\"},\"y_scale\":{\"id\":\"30d26930-32dd-4869-8a90-ad5fa0b3eafa\",\"type\":\"LinearScale\"}},\"id\":\"88ccc248-9b01-421a-b2e1-828950c31e00\",\"subtype\":\"Figure\",\"type\":\"Plot\"},{\"attributes\":{\"formatter\":{\"id\":\"fbb2d563-7ea5-499c-a778-e0c71bf221b9\",\"type\":\"BasicTickFormatter\"},\"major_label_text_font_size\":{\"value\":\"9pt\"},\"major_label_text_font_style\":\"bold\",\"plot\":{\"id\":\"88ccc248-9b01-421a-b2e1-828950c31e00\",\"subtype\":\"Figure\",\"type\":\"Plot\"},\"ticker\":{\"id\":\"7227a62d-ea62-4341-8406-ca52cbd64dff\",\"type\":\"BasicTicker\"}},\"id\":\"e188ba0b-b405-40c1-8d21-2815ea49c199\",\"type\":\"LinearAxis\"},{\"attributes\":{},\"id\":\"7227a62d-ea62-4341-8406-ca52cbd64dff\",\"type\":\"BasicTicker\"},{\"attributes\":{},\"id\":\"30404095-8529-4825-9887-03ccc1e1616b\",\"type\":\"BasicTickFormatter\"},{\"attributes\":{\"bounds\":\"auto\",\"callback\":null,\"end\":93},\"id\":\"379b06ed-0956-4618-bfcb-40fd9c42769f\",\"type\":\"Range1d\"},{\"attributes\":{},\"id\":\"5fcbaff7-a23f-431b-bc4a-1ff1fc974904\",\"type\":\"SaveTool\"},{\"attributes\":{\"minor_grid_line_alpha\":{\"value\":0.1},\"minor_grid_line_color\":{\"value\":\"gray\"},\"plot\":{\"id\":\"88ccc248-9b01-421a-b2e1-828950c31e00\",\"subtype\":\"Figure\",\"type\":\"Plot\"},\"ticker\":{\"id\":\"7227a62d-ea62-4341-8406-ca52cbd64dff\",\"type\":\"BasicTicker\"}},\"id\":\"74b28e5c-fab5-4470-9412-901f45c3fdfa\",\"type\":\"Grid\"},{\"attributes\":{},\"id\":\"7e7e35d7-4354-48d8-8e51-837e3ecbd82a\",\"type\":\"ResetTool\"},{\"attributes\":{\"axis_label\":\"allele\",\"formatter\":{\"id\":\"30404095-8529-4825-9887-03ccc1e1616b\",\"type\":\"BasicTickFormatter\"},\"major_label_text_font_size\":{\"value\":\"0pt\"},\"plot\":{\"id\":\"88ccc248-9b01-421a-b2e1-828950c31e00\",\"subtype\":\"Figure\",\"type\":\"Plot\"},\"ticker\":{\"id\":\"f5f7823f-6bd5-4604-9fbb-b411a4e27b8b\",\"type\":\"BasicTicker\"}},\"id\":\"9102ef50-bf72-4153-9060-660694742631\",\"type\":\"LinearAxis\"},{\"attributes\":{\"callback\":null,\"tooltips\":[[\"allele\",\"@allele\"],[\"position\",\"@position\"],[\"peptide\",\"@peptide\"],[\"score\",\"@score\"],[\"predictor\",\"@predictor\"]]},\"id\":\"e67f4eda-2646-4288-835f-83c6cbb12e21\",\"type\":\"HoverTool\"},{\"attributes\":{},\"id\":\"30d26930-32dd-4869-8a90-ad5fa0b3eafa\",\"type\":\"LinearScale\"},{\"attributes\":{\"dimensions\":\"width\"},\"id\":\"c147847e-fcfc-4153-8923-0c31841bffa7\",\"type\":\"WheelZoomTool\"},{\"attributes\":{\"dimensions\":\"width\"},\"id\":\"7924c319-ff2d-4197-b2fd-b2d64005c1d1\",\"type\":\"PanTool\"},{\"attributes\":{\"source\":{\"id\":\"dcd4c6e6-f658-471b-8ebf-8d9312bc376e\",\"type\":\"ColumnDataSource\"}},\"id\":\"e5539df2-1722-426b-9dd9-c42e11f68319\",\"type\":\"CDSView\"},{\"attributes\":{\"callback\":null,\"end\":12},\"id\":\"46fed110-2c76-4a3b-b171-b9ad29c41e68\",\"type\":\"Range1d\"},{\"attributes\":{\"active_drag\":\"auto\",\"active_inspect\":\"auto\",\"active_scroll\":\"auto\",\"active_tap\":\"auto\",\"logo\":null,\"tools\":[{\"id\":\"7924c319-ff2d-4197-b2fd-b2d64005c1d1\",\"type\":\"PanTool\"},{\"id\":\"c147847e-fcfc-4153-8923-0c31841bffa7\",\"type\":\"WheelZoomTool\"},{\"id\":\"e67f4eda-2646-4288-835f-83c6cbb12e21\",\"type\":\"HoverTool\"},{\"id\":\"7e7e35d7-4354-48d8-8e51-837e3ecbd82a\",\"type\":\"ResetTool\"},{\"id\":\"5fcbaff7-a23f-431b-bc4a-1ff1fc974904\",\"type\":\"SaveTool\"}]},\"id\":\"f61e6270-7d45-404a-9cae-0e9f57e926eb\",\"type\":\"Toolbar\"},{\"attributes\":{\"data_source\":{\"id\":\"dcd4c6e6-f658-471b-8ebf-8d9312bc376e\",\"type\":\"ColumnDataSource\"},\"glyph\":{\"id\":\"71d41550-6598-4905-b503-cb85a7005481\",\"type\":\"Rect\"},\"hover_glyph\":null,\"muted_glyph\":null,\"nonselection_glyph\":{\"id\":\"1e9f9fb6-3419-4350-b251-b64a110c4a3b\",\"type\":\"Rect\"},\"selection_glyph\":null,\"view\":{\"id\":\"e5539df2-1722-426b-9dd9-c42e11f68319\",\"type\":\"CDSView\"}},\"id\":\"ae5fe65d-6414-466e-9c64-d3b76959feec\",\"type\":\"GlyphRenderer\"}],\"root_ids\":[\"88ccc248-9b01-421a-b2e1-828950c31e00\"]},\"title\":\"Bokeh Application\",\"version\":\"0.12.14\"}};\n",
       "  var render_items = [{\"docid\":\"a7e04ac8-ef4a-4c18-b410-cdfe9ac069ec\",\"elementid\":\"2b718b9a-d6af-4d01-8294-bff71e237e42\",\"modelid\":\"88ccc248-9b01-421a-b2e1-828950c31e00\"}];\n",
       "  root.Bokeh.embed.embed_items_notebook(docs_json, render_items);\n",
       "\n",
       "  }\n",
       "  if (root.Bokeh !== undefined) {\n",
       "    embed_document(root);\n",
       "  } else {\n",
       "    var attempts = 0;\n",
       "    var timer = setInterval(function(root) {\n",
       "      if (root.Bokeh !== undefined) {\n",
       "        embed_document(root);\n",
       "        clearInterval(timer);\n",
       "      }\n",
       "      attempts++;\n",
       "      if (attempts > 100) {\n",
       "        console.log(\"Bokeh: ERROR: Unable to run BokehJS code because BokehJS library is missing\")\n",
       "        clearInterval(timer);\n",
       "      }\n",
       "    }, 10, root)\n",
       "  }\n",
       "})(window);"
      ],
      "application/vnd.bokehjs_exec.v0+json": ""
     },
     "metadata": {
      "application/vnd.bokehjs_exec.v0+json": {
       "id": "88ccc248-9b01-421a-b2e1-828950c31e00"
      }
     },
     "output_type": "display_data"
    }
   ],
   "source": [
    "reload(plotting)\n",
    "from bokeh.io import show, output_notebook\n",
    "output_notebook()\n",
    "p = plotting.bokeh_plot_tracks([P],name='Rv0011c',cutoff=.95,n=2,width=800)\n",
    "show(p)"
   ]
  },
  {
   "cell_type": "code",
   "execution_count": null,
   "metadata": {},
   "outputs": [],
   "source": []
  }
 ],
 "metadata": {
  "kernelspec": {
   "display_name": "Python 3",
   "language": "python",
   "name": "python3"
  },
  "language_info": {
   "codemirror_mode": {
    "name": "ipython",
    "version": 3
   },
   "file_extension": ".py",
   "mimetype": "text/x-python",
   "name": "python",
   "nbconvert_exporter": "python",
   "pygments_lexer": "ipython3",
   "version": "3.6.7"
  }
 },
 "nbformat": 4,
 "nbformat_minor": 2
}
