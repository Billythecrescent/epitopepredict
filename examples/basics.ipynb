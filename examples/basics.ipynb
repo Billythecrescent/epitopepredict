{
 "cells": [
  {
   "cell_type": "markdown",
   "metadata": {},
   "source": [
    "# epitopepredict API basic usage\n",
    "\n",
    "## Methodology\n",
    "\n",
    "Predictors for each method inherit from the `Predictor` class and all implement a predict method for scoring a single sequence. This may wrap methods from other modules and/or call command line predictors. For example the `TepitopePredictor` uses the `mhcpredict.tepitope` module. This method should return a Pandas `DataFrame`. The `predictProteins` method is used for multiple proteins contained in a dataframe of sequences in a standard format. This is created from a genbank or fasta file (see examples below). For large numbers of sequences predictProteins you should provide a path so that the results are saved as each protein is completed to avoid memory issues, since many alleles might be called for each protein. Results are saved with one file per protein in csv format. Results can be loaded into the predictor individually or all together using the `load` method."
   ]
  },
  {
   "cell_type": "code",
   "execution_count": 38,
   "metadata": {},
   "outputs": [],
   "source": [
    "import os, math, time, pickle, subprocess\n",
    "from importlib import reload\n",
    "from collections import OrderedDict\n",
    "import numpy as np\n",
    "import pandas as pd\n",
    "import epitopepredict as ep\n",
    "from epitopepredict import sequtils, tepitope, plotting, utilities, peptutils\n",
    "from IPython.display import display, HTML, Image\n",
    "%matplotlib inline\n",
    "import matplotlib as mpl"
   ]
  },
  {
   "cell_type": "code",
   "execution_count": 18,
   "metadata": {},
   "outputs": [
    {
     "name": "stdout",
     "output_type": "stream",
     "text": [
      "['HLA-A*01:01', 'HLA-A*02:01', 'HLA-A*03:01', 'HLA-A*24:02', 'HLA-B*07:02', 'HLA-B*44:03']\n",
      "['HLA-DRB1*01:01', 'HLA-DRB1*03:01', 'HLA-DRB1*04:01', 'HLA-DRB1*07:01', 'HLA-DRB1*08:01', 'HLA-DRB1*11:01', 'HLA-DRB1*13:01', 'HLA-DRB1*15:01']\n"
     ]
    }
   ],
   "source": [
    "#get preset alleles\n",
    "m2_alleles = ep.get_preset_alleles('mhc2_supertypes')\n",
    "m1_alleles = ep.get_preset_alleles('mhc1_supertypes')\n",
    "print (m1_alleles)\n",
    "print (m2_alleles)"
   ]
  },
  {
   "cell_type": "markdown",
   "metadata": {},
   "source": [
    "## predict random peptides"
   ]
  },
  {
   "cell_type": "code",
   "execution_count": 27,
   "metadata": {},
   "outputs": [
    {
     "name": "stdout",
     "output_type": "stream",
     "text": [
      "['RRWALQFAC', 'HAILSRLFP', 'NMVKMTAGG', 'NTSSGNWDG', 'QWIMHHCQR']\n"
     ]
    }
   ],
   "source": [
    "seqs = peptutils.create_random_sequences(500)\n",
    "print (seqs[:5])\n",
    "df = pd.DataFrame(seqs,columns=['peptide'])\n",
    "P = ep.get_predictor('mhcflurry')\n",
    "b = P.predict_peptides(df.peptide, alleles=m1_alleles, show_cmd=True, cpus=1)"
   ]
  },
  {
   "cell_type": "markdown",
   "metadata": {},
   "source": [
    "## results are returned as dataframes, sorted by score"
   ]
  },
  {
   "cell_type": "code",
   "execution_count": 24,
   "metadata": {},
   "outputs": [
    {
     "data": {
      "text/html": [
       "<div>\n",
       "<style scoped>\n",
       "    .dataframe tbody tr th:only-of-type {\n",
       "        vertical-align: middle;\n",
       "    }\n",
       "\n",
       "    .dataframe tbody tr th {\n",
       "        vertical-align: top;\n",
       "    }\n",
       "\n",
       "    .dataframe thead th {\n",
       "        text-align: right;\n",
       "    }\n",
       "</style>\n",
       "<table border=\"1\" class=\"dataframe\">\n",
       "  <thead>\n",
       "    <tr style=\"text-align: right;\">\n",
       "      <th></th>\n",
       "      <th>peptide</th>\n",
       "      <th>pos</th>\n",
       "      <th>allele</th>\n",
       "      <th>prediction</th>\n",
       "      <th>prediction_percentile</th>\n",
       "      <th>name</th>\n",
       "      <th>score</th>\n",
       "      <th>rank</th>\n",
       "    </tr>\n",
       "  </thead>\n",
       "  <tbody>\n",
       "    <tr>\n",
       "      <th>0</th>\n",
       "      <td>VTEIWCHHF</td>\n",
       "      <td>115</td>\n",
       "      <td>HLA-A*01:01</td>\n",
       "      <td>128.587237</td>\n",
       "      <td>0.239875</td>\n",
       "      <td></td>\n",
       "      <td>128.587237</td>\n",
       "      <td>1.0</td>\n",
       "    </tr>\n",
       "    <tr>\n",
       "      <th>1</th>\n",
       "      <td>FVHMIWEDY</td>\n",
       "      <td>24</td>\n",
       "      <td>HLA-A*01:01</td>\n",
       "      <td>900.565410</td>\n",
       "      <td>0.840500</td>\n",
       "      <td></td>\n",
       "      <td>900.565410</td>\n",
       "      <td>2.0</td>\n",
       "    </tr>\n",
       "    <tr>\n",
       "      <th>2</th>\n",
       "      <td>VAYDKHLHY</td>\n",
       "      <td>230</td>\n",
       "      <td>HLA-A*01:01</td>\n",
       "      <td>1528.042754</td>\n",
       "      <td>1.153625</td>\n",
       "      <td></td>\n",
       "      <td>1528.042754</td>\n",
       "      <td>3.0</td>\n",
       "    </tr>\n",
       "    <tr>\n",
       "      <th>3</th>\n",
       "      <td>YMSMFNWKV</td>\n",
       "      <td>244</td>\n",
       "      <td>HLA-A*01:01</td>\n",
       "      <td>2227.032530</td>\n",
       "      <td>1.466250</td>\n",
       "      <td></td>\n",
       "      <td>2227.032530</td>\n",
       "      <td>4.0</td>\n",
       "    </tr>\n",
       "    <tr>\n",
       "      <th>4</th>\n",
       "      <td>WTNPNIHQA</td>\n",
       "      <td>364</td>\n",
       "      <td>HLA-A*01:01</td>\n",
       "      <td>2572.773864</td>\n",
       "      <td>1.623125</td>\n",
       "      <td></td>\n",
       "      <td>2572.773864</td>\n",
       "      <td>5.0</td>\n",
       "    </tr>\n",
       "  </tbody>\n",
       "</table>\n",
       "</div>"
      ],
      "text/plain": [
       "     peptide  pos       allele   prediction  prediction_percentile name  \\\n",
       "0  VTEIWCHHF  115  HLA-A*01:01   128.587237               0.239875        \n",
       "1  FVHMIWEDY   24  HLA-A*01:01   900.565410               0.840500        \n",
       "2  VAYDKHLHY  230  HLA-A*01:01  1528.042754               1.153625        \n",
       "3  YMSMFNWKV  244  HLA-A*01:01  2227.032530               1.466250        \n",
       "4  WTNPNIHQA  364  HLA-A*01:01  2572.773864               1.623125        \n",
       "\n",
       "         score  rank  \n",
       "0   128.587237   1.0  \n",
       "1   900.565410   2.0  \n",
       "2  1528.042754   3.0  \n",
       "3  2227.032530   4.0  \n",
       "4  2572.773864   5.0  "
      ]
     },
     "execution_count": 24,
     "metadata": {},
     "output_type": "execute_result"
    }
   ],
   "source": [
    "b.head()"
   ]
  },
  {
   "cell_type": "markdown",
   "metadata": {},
   "source": [
    "## predict n-mers from a protein sequence\n",
    "This example loads protein sequences from mycobacterium tuberculosis from a genbank file"
   ]
  },
  {
   "cell_type": "code",
   "execution_count": 14,
   "metadata": {},
   "outputs": [
    {
     "data": {
      "text/html": [
       "<div>\n",
       "<style scoped>\n",
       "    .dataframe tbody tr th:only-of-type {\n",
       "        vertical-align: middle;\n",
       "    }\n",
       "\n",
       "    .dataframe tbody tr th {\n",
       "        vertical-align: top;\n",
       "    }\n",
       "\n",
       "    .dataframe thead th {\n",
       "        text-align: right;\n",
       "    }\n",
       "</style>\n",
       "<table border=\"1\" class=\"dataframe\">\n",
       "  <thead>\n",
       "    <tr style=\"text-align: right;\">\n",
       "      <th></th>\n",
       "      <th>type</th>\n",
       "      <th>protein_id</th>\n",
       "      <th>locus_tag</th>\n",
       "      <th>gene</th>\n",
       "      <th>db_xref</th>\n",
       "      <th>product</th>\n",
       "      <th>note</th>\n",
       "      <th>translation</th>\n",
       "      <th>pseudo</th>\n",
       "      <th>start</th>\n",
       "      <th>end</th>\n",
       "      <th>strand</th>\n",
       "      <th>length</th>\n",
       "      <th>order</th>\n",
       "    </tr>\n",
       "  </thead>\n",
       "  <tbody>\n",
       "    <tr>\n",
       "      <th>2</th>\n",
       "      <td>CDS</td>\n",
       "      <td>CCP42723.1</td>\n",
       "      <td>Rv0001</td>\n",
       "      <td>dnaA</td>\n",
       "      <td>GI:444893470</td>\n",
       "      <td>Chromosomal replication initiator protein DnaA</td>\n",
       "      <td>Rv0001, (MT0001, MTV029.01, P49993), len: 507 ...</td>\n",
       "      <td>MTDDPGSGFTTVWNAVVSELNGDPKVDDGPSSDANLSAPLTPQQRA...</td>\n",
       "      <td>NaN</td>\n",
       "      <td>0</td>\n",
       "      <td>1524</td>\n",
       "      <td>1</td>\n",
       "      <td>507</td>\n",
       "      <td>1</td>\n",
       "    </tr>\n",
       "    <tr>\n",
       "      <th>4</th>\n",
       "      <td>CDS</td>\n",
       "      <td>CCP42724.1</td>\n",
       "      <td>Rv0002</td>\n",
       "      <td>dnaN</td>\n",
       "      <td>GI:444893471</td>\n",
       "      <td>DNA polymerase III (beta chain) DnaN (DNA nucl...</td>\n",
       "      <td>Rv0002, (MTV029.02, MTCY10H4.0), len: 402 aa. ...</td>\n",
       "      <td>MDAATTRVGLTDLTFRLLRESFADAVSWVAKNLPARPAVPVLSGVL...</td>\n",
       "      <td>NaN</td>\n",
       "      <td>2051</td>\n",
       "      <td>3260</td>\n",
       "      <td>1</td>\n",
       "      <td>402</td>\n",
       "      <td>2</td>\n",
       "    </tr>\n",
       "    <tr>\n",
       "      <th>6</th>\n",
       "      <td>CDS</td>\n",
       "      <td>CCP42725.1</td>\n",
       "      <td>Rv0003</td>\n",
       "      <td>recF</td>\n",
       "      <td>GI:444893472</td>\n",
       "      <td>DNA replication and repair protein RecF (singl...</td>\n",
       "      <td>Rv0003, (MTCY10H4.01), len: 385 aa. RecF, DNA ...</td>\n",
       "      <td>MYVRHLGLRDFRSWACVDLELHPGRTVFVGPNGYGKTNLIEALWYS...</td>\n",
       "      <td>NaN</td>\n",
       "      <td>3279</td>\n",
       "      <td>4437</td>\n",
       "      <td>1</td>\n",
       "      <td>385</td>\n",
       "      <td>3</td>\n",
       "    </tr>\n",
       "    <tr>\n",
       "      <th>8</th>\n",
       "      <td>CDS</td>\n",
       "      <td>CCP42726.1</td>\n",
       "      <td>Rv0004</td>\n",
       "      <td>NaN</td>\n",
       "      <td>GI:444893473</td>\n",
       "      <td>Conserved hypothetical protein</td>\n",
       "      <td>Rv0004, (MTCY10H4.02), len: 187 aa. Conserved ...</td>\n",
       "      <td>MTGSVDRPDQNRGERSMKSPGLDLVRRTLDEARAAARARGQDAGRG...</td>\n",
       "      <td>NaN</td>\n",
       "      <td>4433</td>\n",
       "      <td>4997</td>\n",
       "      <td>1</td>\n",
       "      <td>187</td>\n",
       "      <td>4</td>\n",
       "    </tr>\n",
       "    <tr>\n",
       "      <th>10</th>\n",
       "      <td>CDS</td>\n",
       "      <td>CCP42727.1</td>\n",
       "      <td>Rv0005</td>\n",
       "      <td>gyrB</td>\n",
       "      <td>GI:444893474</td>\n",
       "      <td>DNA gyrase (subunit B) GyrB (DNA topoisomerase...</td>\n",
       "      <td>Rv0005, (MTCY10H4.03), len: 675 aa. GyrB, DNA ...</td>\n",
       "      <td>MAAQKKKAQDEYGAASITILEGLEAVRKRPGMYIGSTGERGLHHLI...</td>\n",
       "      <td>NaN</td>\n",
       "      <td>5239</td>\n",
       "      <td>7267</td>\n",
       "      <td>1</td>\n",
       "      <td>675</td>\n",
       "      <td>5</td>\n",
       "    </tr>\n",
       "  </tbody>\n",
       "</table>\n",
       "</div>"
      ],
      "text/plain": [
       "   type  protein_id locus_tag  gene       db_xref  \\\n",
       "2   CDS  CCP42723.1    Rv0001  dnaA  GI:444893470   \n",
       "4   CDS  CCP42724.1    Rv0002  dnaN  GI:444893471   \n",
       "6   CDS  CCP42725.1    Rv0003  recF  GI:444893472   \n",
       "8   CDS  CCP42726.1    Rv0004   NaN  GI:444893473   \n",
       "10  CDS  CCP42727.1    Rv0005  gyrB  GI:444893474   \n",
       "\n",
       "                                              product  \\\n",
       "2      Chromosomal replication initiator protein DnaA   \n",
       "4   DNA polymerase III (beta chain) DnaN (DNA nucl...   \n",
       "6   DNA replication and repair protein RecF (singl...   \n",
       "8                      Conserved hypothetical protein   \n",
       "10  DNA gyrase (subunit B) GyrB (DNA topoisomerase...   \n",
       "\n",
       "                                                 note  \\\n",
       "2   Rv0001, (MT0001, MTV029.01, P49993), len: 507 ...   \n",
       "4   Rv0002, (MTV029.02, MTCY10H4.0), len: 402 aa. ...   \n",
       "6   Rv0003, (MTCY10H4.01), len: 385 aa. RecF, DNA ...   \n",
       "8   Rv0004, (MTCY10H4.02), len: 187 aa. Conserved ...   \n",
       "10  Rv0005, (MTCY10H4.03), len: 675 aa. GyrB, DNA ...   \n",
       "\n",
       "                                          translation pseudo  start   end  \\\n",
       "2   MTDDPGSGFTTVWNAVVSELNGDPKVDDGPSSDANLSAPLTPQQRA...    NaN      0  1524   \n",
       "4   MDAATTRVGLTDLTFRLLRESFADAVSWVAKNLPARPAVPVLSGVL...    NaN   2051  3260   \n",
       "6   MYVRHLGLRDFRSWACVDLELHPGRTVFVGPNGYGKTNLIEALWYS...    NaN   3279  4437   \n",
       "8   MTGSVDRPDQNRGERSMKSPGLDLVRRTLDEARAAARARGQDAGRG...    NaN   4433  4997   \n",
       "10  MAAQKKKAQDEYGAASITILEGLEAVRKRPGMYIGSTGERGLHHLI...    NaN   5239  7267   \n",
       "\n",
       "    strand  length  order  \n",
       "2        1     507      1  \n",
       "4        1     402      2  \n",
       "6        1     385      3  \n",
       "8        1     187      4  \n",
       "10       1     675      5  "
      ]
     },
     "execution_count": 14,
     "metadata": {},
     "output_type": "execute_result"
    }
   ],
   "source": [
    "#load protein sequences into a dataframe\n",
    "prots = ep.genbank_to_dataframe('../MTB-H37Rv.gb',cds=True)\n",
    "prots[:5]"
   ]
  },
  {
   "cell_type": "code",
   "execution_count": 32,
   "metadata": {},
   "outputs": [
    {
     "name": "stdout",
     "output_type": "stream",
     "text": [
      "predictions done for 20 sequences in 8 alleles\n"
     ]
    }
   ],
   "source": [
    "P = ep.get_predictor('tepitope')\n",
    "mb_binders = P.predict_sequences(prots[:20], alleles=m2_alleles, cpus=1)"
   ]
  },
  {
   "cell_type": "code",
   "execution_count": 33,
   "metadata": {},
   "outputs": [
    {
     "data": {
      "text/html": [
       "<div>\n",
       "<style scoped>\n",
       "    .dataframe tbody tr th:only-of-type {\n",
       "        vertical-align: middle;\n",
       "    }\n",
       "\n",
       "    .dataframe tbody tr th {\n",
       "        vertical-align: top;\n",
       "    }\n",
       "\n",
       "    .dataframe thead th {\n",
       "        text-align: right;\n",
       "    }\n",
       "</style>\n",
       "<table border=\"1\" class=\"dataframe\">\n",
       "  <thead>\n",
       "    <tr style=\"text-align: right;\">\n",
       "      <th></th>\n",
       "      <th>peptide</th>\n",
       "      <th>core</th>\n",
       "      <th>pos</th>\n",
       "      <th>score</th>\n",
       "      <th>name</th>\n",
       "      <th>allele</th>\n",
       "      <th>rank</th>\n",
       "    </tr>\n",
       "  </thead>\n",
       "  <tbody>\n",
       "    <tr>\n",
       "      <th>174</th>\n",
       "      <td>DTFVIGASNRF</td>\n",
       "      <td>FVIGASNRF</td>\n",
       "      <td>174</td>\n",
       "      <td>2.00</td>\n",
       "      <td>Rv0001</td>\n",
       "      <td>HLA-DRB1*0101</td>\n",
       "      <td>1.0</td>\n",
       "    </tr>\n",
       "    <tr>\n",
       "      <th>175</th>\n",
       "      <td>TFVIGASNRFA</td>\n",
       "      <td>FVIGASNRF</td>\n",
       "      <td>175</td>\n",
       "      <td>2.00</td>\n",
       "      <td>Rv0001</td>\n",
       "      <td>HLA-DRB1*0101</td>\n",
       "      <td>1.0</td>\n",
       "    </tr>\n",
       "    <tr>\n",
       "      <th>176</th>\n",
       "      <td>FVIGASNRFAH</td>\n",
       "      <td>FVIGASNRF</td>\n",
       "      <td>176</td>\n",
       "      <td>2.00</td>\n",
       "      <td>Rv0001</td>\n",
       "      <td>HLA-DRB1*0101</td>\n",
       "      <td>1.0</td>\n",
       "    </tr>\n",
       "    <tr>\n",
       "      <th>45</th>\n",
       "      <td>AWLNLVQPLTI</td>\n",
       "      <td>LNLVQPLTI</td>\n",
       "      <td>45</td>\n",
       "      <td>1.55</td>\n",
       "      <td>Rv0001</td>\n",
       "      <td>HLA-DRB1*0101</td>\n",
       "      <td>4.0</td>\n",
       "    </tr>\n",
       "    <tr>\n",
       "      <th>46</th>\n",
       "      <td>WLNLVQPLTIV</td>\n",
       "      <td>LNLVQPLTI</td>\n",
       "      <td>46</td>\n",
       "      <td>1.55</td>\n",
       "      <td>Rv0001</td>\n",
       "      <td>HLA-DRB1*0101</td>\n",
       "      <td>4.0</td>\n",
       "    </tr>\n",
       "  </tbody>\n",
       "</table>\n",
       "</div>"
      ],
      "text/plain": [
       "         peptide       core  pos  score    name         allele  rank\n",
       "174  DTFVIGASNRF  FVIGASNRF  174   2.00  Rv0001  HLA-DRB1*0101   1.0\n",
       "175  TFVIGASNRFA  FVIGASNRF  175   2.00  Rv0001  HLA-DRB1*0101   1.0\n",
       "176  FVIGASNRFAH  FVIGASNRF  176   2.00  Rv0001  HLA-DRB1*0101   1.0\n",
       "45   AWLNLVQPLTI  LNLVQPLTI   45   1.55  Rv0001  HLA-DRB1*0101   4.0\n",
       "46   WLNLVQPLTIV  LNLVQPLTI   46   1.55  Rv0001  HLA-DRB1*0101   4.0"
      ]
     },
     "execution_count": 33,
     "metadata": {},
     "output_type": "execute_result"
    }
   ],
   "source": [
    "mb_binders.head()"
   ]
  },
  {
   "cell_type": "markdown",
   "metadata": {},
   "source": [
    "## get promiscuous binders - those peptides above the cutoff for at least 3 alleles"
   ]
  },
  {
   "cell_type": "code",
   "execution_count": 13,
   "metadata": {},
   "outputs": [
    {
     "data": {
      "text/plain": [
       "(186, 8)"
      ]
     },
     "execution_count": 13,
     "metadata": {},
     "output_type": "execute_result"
    }
   ],
   "source": [
    "pb = P.promiscuous_binders(n=3)\n",
    "pb.shape"
   ]
  },
  {
   "cell_type": "code",
   "execution_count": 15,
   "metadata": {},
   "outputs": [
    {
     "data": {
      "text/html": [
       "<div>\n",
       "<style scoped>\n",
       "    .dataframe tbody tr th:only-of-type {\n",
       "        vertical-align: middle;\n",
       "    }\n",
       "\n",
       "    .dataframe tbody tr th {\n",
       "        vertical-align: top;\n",
       "    }\n",
       "\n",
       "    .dataframe thead th {\n",
       "        text-align: right;\n",
       "    }\n",
       "</style>\n",
       "<table border=\"1\" class=\"dataframe\">\n",
       "  <thead>\n",
       "    <tr style=\"text-align: right;\">\n",
       "      <th></th>\n",
       "      <th>peptide</th>\n",
       "      <th>pos</th>\n",
       "      <th>name</th>\n",
       "      <th>alleles</th>\n",
       "      <th>core</th>\n",
       "      <th>score</th>\n",
       "      <th>mean</th>\n",
       "      <th>median_rank</th>\n",
       "    </tr>\n",
       "  </thead>\n",
       "  <tbody>\n",
       "    <tr>\n",
       "      <th>43</th>\n",
       "      <td>AILMLYTIVII</td>\n",
       "      <td>359</td>\n",
       "      <td>Rv0017c</td>\n",
       "      <td>8</td>\n",
       "      <td>ILMLYTIVI</td>\n",
       "      <td>6.32</td>\n",
       "      <td>4.120195</td>\n",
       "      <td>16.0</td>\n",
       "    </tr>\n",
       "    <tr>\n",
       "      <th>386</th>\n",
       "      <td>GLVMIHRLDLV</td>\n",
       "      <td>91</td>\n",
       "      <td>Rv0017c</td>\n",
       "      <td>7</td>\n",
       "      <td>LVMIHRLDL</td>\n",
       "      <td>8.10</td>\n",
       "      <td>5.093849</td>\n",
       "      <td>1.0</td>\n",
       "    </tr>\n",
       "    <tr>\n",
       "      <th>733</th>\n",
       "      <td>LRIMQAQLLAK</td>\n",
       "      <td>136</td>\n",
       "      <td>Rv0004</td>\n",
       "      <td>7</td>\n",
       "      <td>LRIMQAQLL</td>\n",
       "      <td>6.80</td>\n",
       "      <td>4.135143</td>\n",
       "      <td>1.0</td>\n",
       "    </tr>\n",
       "  </tbody>\n",
       "</table>\n",
       "</div>"
      ],
      "text/plain": [
       "         peptide  pos     name  alleles       core  score      mean  \\\n",
       "43   AILMLYTIVII  359  Rv0017c        8  ILMLYTIVI   6.32  4.120195   \n",
       "386  GLVMIHRLDLV   91  Rv0017c        7  LVMIHRLDL   8.10  5.093849   \n",
       "733  LRIMQAQLLAK  136   Rv0004        7  LRIMQAQLL   6.80  4.135143   \n",
       "\n",
       "     median_rank  \n",
       "43          16.0  \n",
       "386          1.0  \n",
       "733          1.0  "
      ]
     },
     "execution_count": 15,
     "metadata": {},
     "output_type": "execute_result"
    }
   ],
   "source": [
    "pb[:3]"
   ]
  },
  {
   "cell_type": "markdown",
   "metadata": {},
   "source": [
    "## plot binders in a protein sequence"
   ]
  },
  {
   "cell_type": "code",
   "execution_count": 41,
   "metadata": {},
   "outputs": [
    {
     "name": "stdout",
     "output_type": "stream",
     "text": [
      "['Rv0001', 'Rv0002', 'Rv0003', 'Rv0004', 'Rv0005', 'Rv0006', 'Rv0007', 'Rv0008c', 'Rv0009', 'Rv0010c', 'Rv0011c', 'Rv0012', 'Rv0013', 'Rv0014c', 'Rv0015c', 'Rv0016c', 'Rv0017c', 'Rv0018c', 'Rv0019c', 'Rv0020c']\n",
      "Rv0011c tepitope 82 11 93\n"
     ]
    },
    {
     "data": {
      "text/plain": [
       "<matplotlib.figure.Figure at 0x7f0e7e6f63c8>"
      ]
     },
     "metadata": {},
     "output_type": "display_data"
    },
    {
     "data": {
      "image/png": "[encoded data removed]",
      "text/plain": [
       "<matplotlib.figure.Figure at 0x7f0efb3b6f98>"
      ]
     },
     "metadata": {},
     "output_type": "display_data"
    }
   ],
   "source": [
    "#get names of proteins stored in results of predictor\n",
    "print (P.get_names())\n",
    "ax = plotting.plot_tracks([P],name='Rv0011c',cutoff=.95,n=2)"
   ]
  },
  {
   "cell_type": "code",
   "execution_count": null,
   "metadata": {},
   "outputs": [],
   "source": []
  }
 ],
 "metadata": {
  "kernelspec": {
   "display_name": "Python 3",
   "language": "python",
   "name": "python3"
  },
  "language_info": {
   "codemirror_mode": {
    "name": "ipython",
    "version": 3
   },
   "file_extension": ".py",
   "mimetype": "text/x-python",
   "name": "python",
   "nbconvert_exporter": "python",
   "pygments_lexer": "ipython3",
   "version": "3.6.7rc1"
  }
 },
 "nbformat": 4,
 "nbformat_minor": 2
}
