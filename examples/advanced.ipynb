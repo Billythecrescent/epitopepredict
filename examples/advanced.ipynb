{
 "cells": [
  {
   "cell_type": "markdown",
   "metadata": {},
   "source": [
    "# epitopepredict advanced analyses\n",
    "\n",
    "### References:\n",
    "* Paul, S. et al., 2015. Development and validation of a broad scheme for prediction of HLA class II restricted T cell epitopes. Journal of Immunological Methods, 422, pp.28–34. Available at: http://dx.doi.org/10.1016/j.jim.2015.03.022.\n",
    "* Terry, F.E. et al., 2014. Time for T? Immunoinformatics addresses vaccine design for neglected tropical and emerging infectious diseases. Expert review of vaccines, 9, pp.1–15. Available at: http://www.ncbi.nlm.nih.gov/pubmed/25193104.\n"
   ]
  },
  {
   "cell_type": "code",
   "execution_count": null,
   "metadata": {
    "collapsed": true
   },
   "outputs": [],
   "source": [
    "import numpy as np\n",
    "import pandas as pd\n",
    "pd.set_option('display.width', 100)\n",
    "pd.set_option('max_colwidth', 80)\n",
    "%matplotlib inline\n",
    "import matplotlib as mpl\n",
    "import seaborn as sns\n",
    "sns.set_context(\"notebook\", font_scale=1.4)\n",
    "from IPython.display import display, HTML\n",
    "\n",
    "import epitopepredict as ep\n",
    "from epitopepredict import base, sequtils, analysis"
   ]
  },
  {
   "cell_type": "code",
   "execution_count": null,
   "metadata": {
    "collapsed": false
   },
   "outputs": [],
   "source": [
    "genbankfile = '../testing/zaire-ebolavirus.gb'\n",
    "zaire = sequtils.genbank2Dataframe(genbankfile, cds=True)\n",
    "savepath = 'test_iedbmhc1'\n",
    "Pi = ep.getPredictor('iedbmhc1')\n",
    "alleles = ep.mhc1_supertypes\n",
    "Pi.predictProteins(zaire,length=11,alleles=alleles,path=savepath,overwrite=False)\n",
    "Pi.load(path=savepath)"
   ]
  },
  {
   "cell_type": "markdown",
   "metadata": {},
   "source": [
    "## Binder clustering for finding regions with possible epitopes\n",
    "\n",
    "One application of immunoinformatics is to screen out likely candidate antigens from the genome for further study. To do this using epitope prediction requires filtering the many potential binders in each protein. There is no theoretical basis for doing this.\n",
    "\n",
    "**Epitope clustering** has been previously observed to be an indicator of T cell epitope regions. The `findClusters` method in the analysis module allows automatic cluster detection from a set of predicted binders from one or more proteins. It can be done for a whole genome.\n",
    "\n",
    "The result is a table of sequence regions with the number of binders and density of epitope cluster."
   ]
  },
  {
   "cell_type": "code",
   "execution_count": 20,
   "metadata": {
    "collapsed": false
   },
   "outputs": [
    {
     "name": "stdout",
     "output_type": "stream",
     "text": [
      "40 clusters found in 7 proteins\n"
     ]
    },
    {
     "data": {
      "text/html": [
       "<div>\n",
       "<table border=\"1\" class=\"dataframe\">\n",
       "  <thead>\n",
       "    <tr style=\"text-align: right;\">\n",
       "      <th></th>\n",
       "      <th>name</th>\n",
       "      <th>start</th>\n",
       "      <th>end</th>\n",
       "      <th>binders</th>\n",
       "      <th>clustersize</th>\n",
       "      <th>gene</th>\n",
       "      <th>peptide</th>\n",
       "    </tr>\n",
       "  </thead>\n",
       "  <tbody>\n",
       "    <tr>\n",
       "      <th>0</th>\n",
       "      <td>ZEBOVgp7</td>\n",
       "      <td>1451</td>\n",
       "      <td>1481</td>\n",
       "      <td>7</td>\n",
       "      <td>30</td>\n",
       "      <td>L</td>\n",
       "      <td>FTTHFLTYPKIGLLYSFGAFVSYYLGNTIL</td>\n",
       "    </tr>\n",
       "    <tr>\n",
       "      <th>1</th>\n",
       "      <td>ZEBOVgp1</td>\n",
       "      <td>176</td>\n",
       "      <td>215</td>\n",
       "      <td>6</td>\n",
       "      <td>39</td>\n",
       "      <td>NP</td>\n",
       "      <td>QVHAEQGLIQYPTAWQSVGHMMVIFRLMRTNFLIKFLLI</td>\n",
       "    </tr>\n",
       "    <tr>\n",
       "      <th>2</th>\n",
       "      <td>ZEBOVgp7</td>\n",
       "      <td>95</td>\n",
       "      <td>118</td>\n",
       "      <td>5</td>\n",
       "      <td>23</td>\n",
       "      <td>L</td>\n",
       "      <td>CQQFLDEIIKYTMQDALFLKYYL</td>\n",
       "    </tr>\n",
       "    <tr>\n",
       "      <th>3</th>\n",
       "      <td>ZEBOVgp7</td>\n",
       "      <td>1962</td>\n",
       "      <td>1987</td>\n",
       "      <td>5</td>\n",
       "      <td>25</td>\n",
       "      <td>L</td>\n",
       "      <td>VFLSDTEGMLWLNDNLAPFFATGYL</td>\n",
       "    </tr>\n",
       "    <tr>\n",
       "      <th>4</th>\n",
       "      <td>ZEBOVgp5</td>\n",
       "      <td>224</td>\n",
       "      <td>249</td>\n",
       "      <td>4</td>\n",
       "      <td>25</td>\n",
       "      <td>VP30</td>\n",
       "      <td>ALWQQWDRQSLIMFITAFLNIALQL</td>\n",
       "    </tr>\n",
       "    <tr>\n",
       "      <th>5</th>\n",
       "      <td>ZEBOVgp4.2</td>\n",
       "      <td>15</td>\n",
       "      <td>35</td>\n",
       "      <td>4</td>\n",
       "      <td>20</td>\n",
       "      <td>GP</td>\n",
       "      <td>RTSFFLWVIILFQRTFSIPL</td>\n",
       "    </tr>\n",
       "    <tr>\n",
       "      <th>6</th>\n",
       "      <td>ZEBOVgp7</td>\n",
       "      <td>139</td>\n",
       "      <td>158</td>\n",
       "      <td>3</td>\n",
       "      <td>19</td>\n",
       "      <td>L</td>\n",
       "      <td>IQGNEFLHQMFFWYDLAIL</td>\n",
       "    </tr>\n",
       "    <tr>\n",
       "      <th>7</th>\n",
       "      <td>ZEBOVgp1</td>\n",
       "      <td>142</td>\n",
       "      <td>160</td>\n",
       "      <td>3</td>\n",
       "      <td>18</td>\n",
       "      <td>NP</td>\n",
       "      <td>TEANAGQFLSFASLFLPK</td>\n",
       "    </tr>\n",
       "    <tr>\n",
       "      <th>8</th>\n",
       "      <td>ZEBOVgp4.2</td>\n",
       "      <td>225</td>\n",
       "      <td>252</td>\n",
       "      <td>3</td>\n",
       "      <td>27</td>\n",
       "      <td>GP</td>\n",
       "      <td>GTNETEYLFEVDNLTYVQLESRFTPQF</td>\n",
       "    </tr>\n",
       "    <tr>\n",
       "      <th>9</th>\n",
       "      <td>ZEBOVgp3</td>\n",
       "      <td>165</td>\n",
       "      <td>186</td>\n",
       "      <td>3</td>\n",
       "      <td>21</td>\n",
       "      <td>VP40</td>\n",
       "      <td>VQLPQYFTFDLTALKLITQPL</td>\n",
       "    </tr>\n",
       "    <tr>\n",
       "      <th>10</th>\n",
       "      <td>ZEBOVgp7</td>\n",
       "      <td>1625</td>\n",
       "      <td>1642</td>\n",
       "      <td>3</td>\n",
       "      <td>17</td>\n",
       "      <td>L</td>\n",
       "      <td>YTCKSTASNFFHASLAY</td>\n",
       "    </tr>\n",
       "    <tr>\n",
       "      <th>11</th>\n",
       "      <td>ZEBOVgp7</td>\n",
       "      <td>393</td>\n",
       "      <td>419</td>\n",
       "      <td>3</td>\n",
       "      <td>26</td>\n",
       "      <td>L</td>\n",
       "      <td>TVLKALRPIVIFETYCVFKYSIAKHY</td>\n",
       "    </tr>\n",
       "    <tr>\n",
       "      <th>12</th>\n",
       "      <td>ZEBOVgp7</td>\n",
       "      <td>1521</td>\n",
       "      <td>1533</td>\n",
       "      <td>2</td>\n",
       "      <td>12</td>\n",
       "      <td>L</td>\n",
       "      <td>RLMSIDPHFSIY</td>\n",
       "    </tr>\n",
       "    <tr>\n",
       "      <th>13</th>\n",
       "      <td>ZEBOVgp7</td>\n",
       "      <td>295</td>\n",
       "      <td>312</td>\n",
       "      <td>2</td>\n",
       "      <td>17</td>\n",
       "      <td>L</td>\n",
       "      <td>KFLEPLCLAKIQLCSKY</td>\n",
       "    </tr>\n",
       "    <tr>\n",
       "      <th>14</th>\n",
       "      <td>ZEBOVgp7</td>\n",
       "      <td>1547</td>\n",
       "      <td>1562</td>\n",
       "      <td>2</td>\n",
       "      <td>15</td>\n",
       "      <td>L</td>\n",
       "      <td>RLFLRTSISSFLTFV</td>\n",
       "    </tr>\n",
       "    <tr>\n",
       "      <th>15</th>\n",
       "      <td>ZEBOVgp7</td>\n",
       "      <td>1795</td>\n",
       "      <td>1816</td>\n",
       "      <td>2</td>\n",
       "      <td>21</td>\n",
       "      <td>L</td>\n",
       "      <td>SVIDTTVYCRFTGIVSSMHYK</td>\n",
       "    </tr>\n",
       "    <tr>\n",
       "      <th>16</th>\n",
       "      <td>ZEBOVgp7</td>\n",
       "      <td>1074</td>\n",
       "      <td>1088</td>\n",
       "      <td>2</td>\n",
       "      <td>14</td>\n",
       "      <td>L</td>\n",
       "      <td>RKITLQRWSLWFSY</td>\n",
       "    </tr>\n",
       "    <tr>\n",
       "      <th>17</th>\n",
       "      <td>ZEBOVgp7</td>\n",
       "      <td>941</td>\n",
       "      <td>953</td>\n",
       "      <td>2</td>\n",
       "      <td>12</td>\n",
       "      <td>L</td>\n",
       "      <td>MIEMDDLFLPLI</td>\n",
       "    </tr>\n",
       "    <tr>\n",
       "      <th>18</th>\n",
       "      <td>ZEBOVgp7</td>\n",
       "      <td>901</td>\n",
       "      <td>914</td>\n",
       "      <td>2</td>\n",
       "      <td>13</td>\n",
       "      <td>L</td>\n",
       "      <td>ALAVPQVLGGLSF</td>\n",
       "    </tr>\n",
       "    <tr>\n",
       "      <th>19</th>\n",
       "      <td>ZEBOVgp7</td>\n",
       "      <td>858</td>\n",
       "      <td>874</td>\n",
       "      <td>2</td>\n",
       "      <td>16</td>\n",
       "      <td>L</td>\n",
       "      <td>ITAAFHTFFSVRILQY</td>\n",
       "    </tr>\n",
       "  </tbody>\n",
       "</table>\n",
       "</div>"
      ],
      "text/plain": [
       "          name  start   end  binders  clustersize  gene                                  peptide\n",
       "0     ZEBOVgp7   1451  1481        7           30     L           FTTHFLTYPKIGLLYSFGAFVSYYLGNTIL\n",
       "1     ZEBOVgp1    176   215        6           39    NP  QVHAEQGLIQYPTAWQSVGHMMVIFRLMRTNFLIKFLLI\n",
       "2     ZEBOVgp7     95   118        5           23     L                  CQQFLDEIIKYTMQDALFLKYYL\n",
       "3     ZEBOVgp7   1962  1987        5           25     L                VFLSDTEGMLWLNDNLAPFFATGYL\n",
       "4     ZEBOVgp5    224   249        4           25  VP30                ALWQQWDRQSLIMFITAFLNIALQL\n",
       "5   ZEBOVgp4.2     15    35        4           20    GP                     RTSFFLWVIILFQRTFSIPL\n",
       "6     ZEBOVgp7    139   158        3           19     L                      IQGNEFLHQMFFWYDLAIL\n",
       "7     ZEBOVgp1    142   160        3           18    NP                       TEANAGQFLSFASLFLPK\n",
       "8   ZEBOVgp4.2    225   252        3           27    GP              GTNETEYLFEVDNLTYVQLESRFTPQF\n",
       "9     ZEBOVgp3    165   186        3           21  VP40                    VQLPQYFTFDLTALKLITQPL\n",
       "10    ZEBOVgp7   1625  1642        3           17     L                        YTCKSTASNFFHASLAY\n",
       "11    ZEBOVgp7    393   419        3           26     L               TVLKALRPIVIFETYCVFKYSIAKHY\n",
       "12    ZEBOVgp7   1521  1533        2           12     L                             RLMSIDPHFSIY\n",
       "13    ZEBOVgp7    295   312        2           17     L                        KFLEPLCLAKIQLCSKY\n",
       "14    ZEBOVgp7   1547  1562        2           15     L                          RLFLRTSISSFLTFV\n",
       "15    ZEBOVgp7   1795  1816        2           21     L                    SVIDTTVYCRFTGIVSSMHYK\n",
       "16    ZEBOVgp7   1074  1088        2           14     L                           RKITLQRWSLWFSY\n",
       "17    ZEBOVgp7    941   953        2           12     L                             MIEMDDLFLPLI\n",
       "18    ZEBOVgp7    901   914        2           13     L                            ALAVPQVLGGLSF\n",
       "19    ZEBOVgp7    858   874        2           16     L                         ITAAFHTFFSVRILQY"
      ]
     },
     "metadata": {},
     "output_type": "display_data"
    }
   ],
   "source": [
    "#find clusters of binders in these results\n",
    "pb = Pi.promiscuousBinders(cutoff=5,n=2)\n",
    "cl = analysis.findClusters(pb, dist=10, min_size=3, genome=zaire)\n",
    "display(cl[:20])"
   ]
  },
  {
   "cell_type": "markdown",
   "metadata": {},
   "source": [
    "## plot regions on sequence \n",
    "We can use this to see where our clusters are in the sequence, for exmaple"
   ]
  },
  {
   "cell_type": "code",
   "execution_count": null,
   "metadata": {
    "collapsed": false
   },
   "outputs": [],
   "source": [
    "ep.plotting.plot_multiple([Pi], name, regions=cl, n=2)"
   ]
  },
  {
   "cell_type": "markdown",
   "metadata": {},
   "source": [
    "## overlaps"
   ]
  },
  {
   "cell_type": "code",
   "execution_count": 30,
   "metadata": {
    "collapsed": false
   },
   "outputs": [
    {
     "name": "stdout",
     "output_type": "stream",
     "text": [
      "predictions done for 9 proteins in 7 alleles\n",
      "results saved to /home/damien/gitprojects/epitopepredict/examples/test_netmhciipan\n",
      "17 with overlapping binders\n",
      "        name  start  end  binders  clustersize  gene                peptide  mhc2_ovlp\n",
      "28  ZEBOVgp6    142  158        2           16  VP24       EQLSLKMLSLIRSNIL          2\n",
      "29  ZEBOVgp6     86  107        2           21  VP24  IESPLWALRVILAAGIQDQLI          0\n",
      "30  ZEBOVgp6     68   80        2           12  VP24           WSMTRNLFPHLF          0\n"
     ]
    },
    {
     "data": {
      "image/png": "[encoded data removed]",
      "text/plain": [
       "<matplotlib.figure.Figure at 0x7f5dac9f0fd0>"
      ]
     },
     "metadata": {},
     "output_type": "display_data"
    }
   ],
   "source": [
    "name = 'ZEBOVgp6'\n",
    "Pn = ep.getPredictor('netmhciipan')\n",
    "savepath2='test_netmhciipan'\n",
    "alleles2 = ep.mhc2_supertypes\n",
    "Pn.predictProteins(zaire,length=11,alleles=alleles2,path=savepath2,overwrite=False)\n",
    "Pn.load(path=savepath2)\n",
    "\n",
    "cl = analysis.getOverlaps(cl,Pn.promiscuousBinders(n=2,cutoff=5),label='mhc2_ovlp')\n",
    "\n",
    "#plot both sets of binders and overlay region of cluster in previous data\n",
    "ax = ep.plot_tracks([Pi,Pn],name=name,legend=True,figsize=(14,4),n=2)\n",
    "r = cl[cl.name==name]\n",
    "print r\n",
    "coords = (list(r.start),list(r.end-r.start))\n",
    "coords = zip(*coords)\n",
    "ep.plot_regions(coords, ax, color='gray')"
   ]
  },
  {
   "cell_type": "code",
   "execution_count": null,
   "metadata": {
    "collapsed": true
   },
   "outputs": [],
   "source": []
  }
 ],
 "metadata": {
  "kernelspec": {
   "display_name": "Python 2",
   "language": "python",
   "name": "python2"
  },
  "language_info": {
   "codemirror_mode": {
    "name": "ipython",
    "version": 2
   },
   "file_extension": ".py",
   "mimetype": "text/x-python",
   "name": "python",
   "nbconvert_exporter": "python",
   "pygments_lexer": "ipython2",
   "version": "2.7.12"
  }
 },
 "nbformat": 4,
 "nbformat_minor": 0
}
